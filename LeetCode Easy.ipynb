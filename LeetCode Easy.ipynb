{
  "nbformat": 4,
  "nbformat_minor": 0,
  "metadata": {
    "colab": {
      "provenance": [],
      "authorship_tag": "ABX9TyMENnOKfAwfhy/xqPUHVSxr",
      "include_colab_link": true
    },
    "kernelspec": {
      "name": "python3",
      "display_name": "Python 3"
    },
    "language_info": {
      "name": "python"
    }
  },
  "cells": [
    {
      "cell_type": "markdown",
      "metadata": {
        "id": "view-in-github",
        "colab_type": "text"
      },
      "source": [
        "<a href=\"https://colab.research.google.com/github/MassGH2023/Python-Coding-Practice/blob/main/LeetCode%20Easy.ipynb\" target=\"_parent\"><img src=\"https://colab.research.google.com/assets/colab-badge.svg\" alt=\"Open In Colab\"/></a>"
      ]
    },
    {
      "cell_type": "markdown",
      "source": [
        "# Remove Duplicates from Sorted Array\n",
        "\n"
      ],
      "metadata": {
        "id": "UWksxBetq3_v"
      }
    },
    {
      "cell_type": "code",
      "execution_count": null,
      "metadata": {
        "id": "l6zdcIxIco8d"
      },
      "outputs": [],
      "source": [
        "class Solution(object):\n",
        "    def removeDuplicates(self, nums):\n",
        "      i = 1\n",
        "      j = 1\n",
        "      n = len(nums)\n",
        "\n",
        "      while i <= n-1:\n",
        "        if nums[i] == nums[i-1]:\n",
        "          i +=1\n",
        "\n",
        "        elif nums[i] != nums[i-1]:\n",
        "          nums[j] = nums [i]\n",
        "          j+=1\n",
        "          i+=1\n",
        "\n",
        "      return j\n",
        "\n"
      ]
    },
    {
      "cell_type": "code",
      "source": [
        "nums = [0,0,1,1,1,2,2,3,3,4]"
      ],
      "metadata": {
        "id": "jnE0KSaYcqxe"
      },
      "execution_count": null,
      "outputs": []
    },
    {
      "cell_type": "code",
      "source": [
        "Solution().removeDuplicates(nums = [0,0,1,1,1,2,2,3,3,4])"
      ],
      "metadata": {
        "colab": {
          "base_uri": "https://localhost:8080/"
        },
        "id": "87lI3dhxc9ze",
        "outputId": "d533e1fa-7752-4fdb-e21b-ea4677e069c1"
      },
      "execution_count": null,
      "outputs": [
        {
          "output_type": "execute_result",
          "data": {
            "text/plain": [
              "5"
            ]
          },
          "metadata": {},
          "execution_count": 24
        }
      ]
    },
    {
      "cell_type": "markdown",
      "source": [
        "# Remove Element\n"
      ],
      "metadata": {
        "id": "LYPmnsM8-UpK"
      }
    },
    {
      "cell_type": "code",
      "source": [
        "class Solution(object):\n",
        "    def removeElement(self, nums, val):\n",
        "        \"\"\"\n",
        "        :type nums: List[int]\n",
        "        :type val: int\n",
        "        :rtype: int\n",
        "        \"\"\"\n",
        "        newnums = []\n",
        "        i = 0\n",
        "        while i< len(nums):\n",
        "          if nums[i] ==  val:\n",
        "            i+=1\n",
        "\n",
        "          elif nums[i] !=  val:\n",
        "            newnums.append(nums[i])\n",
        "            i+=1\n",
        "\n",
        "\n",
        "        return len(newnums)\n"
      ],
      "metadata": {
        "id": "YjknMKhOc_v-"
      },
      "execution_count": null,
      "outputs": []
    },
    {
      "cell_type": "code",
      "source": [
        "Solution().removeElement(nums = [0,1,2,2,3,0,4,2], val = 2)"
      ],
      "metadata": {
        "id": "b5YItn82dCxd",
        "colab": {
          "base_uri": "https://localhost:8080/"
        },
        "outputId": "f68cc4f7-8b94-447f-ae73-33769aab877f"
      },
      "execution_count": null,
      "outputs": [
        {
          "output_type": "execute_result",
          "data": {
            "text/plain": [
              "5"
            ]
          },
          "metadata": {},
          "execution_count": 30
        }
      ]
    },
    {
      "cell_type": "markdown",
      "source": [
        "# Find the Index of the First Occurrence in a String\n"
      ],
      "metadata": {
        "id": "R0hTqZTKBoSa"
      }
    },
    {
      "cell_type": "code",
      "source": [
        "class Solution(object):\n",
        "    def strStr(self, haystack, needle):\n",
        "        \"\"\"\n",
        "        :type haystack: str\n",
        "        :type needle: str\n",
        "        :rtype: int\n",
        "        \"\"\"\n",
        "\n",
        "        i = 0\n",
        "\n",
        "        while i< len(haystack):\n",
        "\n",
        "          if haystack[i:i+len(needle)] == needle:\n",
        "            return i\n",
        "          else:\n",
        "            i+=1\n",
        "\n",
        "        return -1\n"
      ],
      "metadata": {
        "id": "3tiNXm0b_PUA"
      },
      "execution_count": null,
      "outputs": []
    },
    {
      "cell_type": "markdown",
      "source": [
        "# Search Insert Position\n"
      ],
      "metadata": {
        "id": "9RW-j8e6CVC_"
      }
    },
    {
      "cell_type": "code",
      "source": [
        "class Solution(object):\n",
        "    def searchInsert(self, nums, target):\n",
        "        \"\"\"\n",
        "        :type nums: List[int]\n",
        "        :type target: int\n",
        "        :rtype: int\n",
        "        \"\"\"\n",
        "        i = 0\n",
        "        n = len(nums)\n",
        "\n",
        "        while i < n:\n",
        "            if nums[i] >= target:\n",
        "                return i\n",
        "            i += 1\n",
        "        return n"
      ],
      "metadata": {
        "id": "2uAB1a8PB_90"
      },
      "execution_count": null,
      "outputs": []
    },
    {
      "cell_type": "code",
      "source": [
        "def searchInsert(nums, target):\n",
        "    left, right = 0, len(nums) - 1\n",
        "    while left <= right:\n",
        "        mid = (left + right) // 2\n",
        "        if nums[mid] == target:\n",
        "            return mid\n",
        "        elif nums[mid] < target:\n",
        "            left = mid + 1\n",
        "        else:\n",
        "            right = mid - 1\n",
        "    return left\n"
      ],
      "metadata": {
        "id": "EJx8LLiDCt53"
      },
      "execution_count": null,
      "outputs": []
    }
  ]
}