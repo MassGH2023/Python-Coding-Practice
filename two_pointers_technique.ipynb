{
  "nbformat": 4,
  "nbformat_minor": 0,
  "metadata": {
    "colab": {
      "provenance": [],
      "authorship_tag": "ABX9TyN0r1qUNuwWDk17O9DUyPyZ",
      "include_colab_link": true
    },
    "kernelspec": {
      "name": "python3",
      "display_name": "Python 3"
    },
    "language_info": {
      "name": "python"
    }
  },
  "cells": [
    {
      "cell_type": "markdown",
      "metadata": {
        "id": "view-in-github",
        "colab_type": "text"
      },
      "source": [
        "<a href=\"https://colab.research.google.com/github/MassGH2023/Python-Coding-Practice/blob/main/two_pointers_technique.ipynb\" target=\"_parent\"><img src=\"https://colab.research.google.com/assets/colab-badge.svg\" alt=\"Open In Colab\"/></a>"
      ]
    },
    {
      "cell_type": "markdown",
      "source": [
        "# two pointers technique\n",
        "\n",
        "**Understand the Core Concept**\n",
        "\n",
        "The two pointers technique is often used to reduce the complexity of problems involving sorted arrays. The idea is to use two indices (pointers) to scan the array from opposite ends, or in some specific direction, to find a target condition efficiently."
      ],
      "metadata": {
        "id": "WmzhjEESpNvu"
      }
    },
    {
      "cell_type": "markdown",
      "source": [
        "The *simplest problem* to start learning the two pointers technique is the **\"Two Sum - Sorted Input\"**\n",
        "\n",
        "\n",
        "**Problem Statement:** Given a sorted array nums and a target sum target, find two numbers in the array that add up to the target. Return their indices or values."
      ],
      "metadata": {
        "id": "i0IrFrG_qBC8"
      }
    },
    {
      "cell_type": "markdown",
      "source": [
        "**Approach: Two Pointers**\n",
        "\n",
        "    1. Sort the array: num.sort()\n",
        "    2. Use two pointers:\n",
        "        One starting at the beginning (left) --->\n",
        "        One starting at the end (right)     <---\n",
        "    3. Calculate the sum of the two pointers:\n",
        "        If the sum is equal to the target, return the pair.\n",
        "        If the sum is less than the target, move the left pointer (to increase the sum).\n",
        "        If the sum is greater than the target, move the right pointer (to decrease the sum)."
      ],
      "metadata": {
        "id": "r1jXsGqCqSAU"
      }
    },
    {
      "cell_type": "code",
      "execution_count": 2,
      "metadata": {
        "id": "bJbRU-5OpNRv"
      },
      "outputs": [],
      "source": [
        "def twosum(num, target):\n",
        "\n",
        "\n",
        "    num.sort()\n",
        "\n",
        "\n",
        "\n",
        "    left =  0\n",
        "    right = len(num)-1\n",
        "    while left < right:\n",
        "      sum = num[left] + num[right]\n",
        "\n",
        "      if sum == target:\n",
        "        return [num[left] ,num[right]]\n",
        "\n",
        "      elif sum < target:\n",
        "\n",
        "        left +=1\n",
        "\n",
        "      else:\n",
        "        right -=1\n",
        "\n",
        "    return []"
      ]
    },
    {
      "cell_type": "code",
      "source": [
        "twosum(num = [1, 2, 3, 4, 6], target = 6)"
      ],
      "metadata": {
        "colab": {
          "base_uri": "https://localhost:8080/"
        },
        "id": "dpSGGHHU0Qvm",
        "outputId": "a8bc597b-194d-4cde-f49b-5dc2d33d2d5a"
      },
      "execution_count": 4,
      "outputs": [
        {
          "output_type": "execute_result",
          "data": {
            "text/plain": [
              "[2, 4]"
            ]
          },
          "metadata": {},
          "execution_count": 4
        }
      ]
    },
    {
      "cell_type": "code",
      "source": [],
      "metadata": {
        "id": "siW4F9lo0TLW"
      },
      "execution_count": null,
      "outputs": []
    }
  ]
}