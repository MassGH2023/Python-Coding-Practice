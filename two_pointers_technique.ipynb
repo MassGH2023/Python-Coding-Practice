{
  "nbformat": 4,
  "nbformat_minor": 0,
  "metadata": {
    "colab": {
      "provenance": [],
      "authorship_tag": "ABX9TyM/iX4+8e2m6Mx7Wju6EZTU",
      "include_colab_link": true
    },
    "kernelspec": {
      "name": "python3",
      "display_name": "Python 3"
    },
    "language_info": {
      "name": "python"
    }
  },
  "cells": [
    {
      "cell_type": "markdown",
      "metadata": {
        "id": "view-in-github",
        "colab_type": "text"
      },
      "source": [
        "<a href=\"https://colab.research.google.com/github/MassGH2023/Python-Coding-Practice/blob/main/two_pointers_technique.ipynb\" target=\"_parent\"><img src=\"https://colab.research.google.com/assets/colab-badge.svg\" alt=\"Open In Colab\"/></a>"
      ]
    },
    {
      "cell_type": "markdown",
      "source": [
        "# two pointers technique\n",
        "\n",
        "**Understand the Core Concept**\n",
        "\n",
        "The two pointers technique is often used to reduce the complexity of problems involving sorted arrays. The idea is to use two indices (pointers) to scan the array from opposite ends, or in some specific direction, to find a target condition efficiently."
      ],
      "metadata": {
        "id": "WmzhjEESpNvu"
      }
    },
    {
      "cell_type": "markdown",
      "source": [
        "The *simplest problem* to start learning the two pointers technique is the **\"Two Sum - Sorted Input\"**\n",
        "\n",
        "\n",
        "**Problem Statement:** Given a sorted array nums and a target sum target, find two numbers in the array that add up to the target. Return their indices or values."
      ],
      "metadata": {
        "id": "i0IrFrG_qBC8"
      }
    },
    {
      "cell_type": "markdown",
      "source": [
        "**Approach: Two Pointers**\n",
        "\n",
        "    1. Sort the array: num.sort()\n",
        "    2. Use two pointers:\n",
        "        One starting at the beginning (left) --->\n",
        "        One starting at the end (right)     <---\n",
        "    3. Calculate the sum of the two pointers:\n",
        "        If the sum is equal to the target, return the pair.\n",
        "        If the sum is less than the target, move the left pointer (to increase the sum).\n",
        "        If the sum is greater than the target, move the right pointer (to decrease the sum)."
      ],
      "metadata": {
        "id": "r1jXsGqCqSAU"
      }
    },
    {
      "cell_type": "code",
      "execution_count": 2,
      "metadata": {
        "id": "bJbRU-5OpNRv"
      },
      "outputs": [],
      "source": [
        "def twosum(num, target):\n",
        "\n",
        "\n",
        "    num.sort()\n",
        "\n",
        "\n",
        "\n",
        "    left =  0\n",
        "    right = len(num)-1\n",
        "    while left < right:\n",
        "      sum = num[left] + num[right]\n",
        "\n",
        "      if sum == target:\n",
        "        return [num[left] ,num[right]]\n",
        "\n",
        "      elif sum < target:\n",
        "\n",
        "        left +=1\n",
        "\n",
        "      else:\n",
        "        right -=1\n",
        "\n",
        "    return []"
      ]
    },
    {
      "cell_type": "code",
      "source": [
        "twosum(num = [1, 2, 3, 4, 6], target = 6)"
      ],
      "metadata": {
        "colab": {
          "base_uri": "https://localhost:8080/"
        },
        "id": "dpSGGHHU0Qvm",
        "outputId": "a8bc597b-194d-4cde-f49b-5dc2d33d2d5a"
      },
      "execution_count": 4,
      "outputs": [
        {
          "output_type": "execute_result",
          "data": {
            "text/plain": [
              "[2, 4]"
            ]
          },
          "metadata": {},
          "execution_count": 4
        }
      ]
    },
    {
      "cell_type": "markdown",
      "source": [
        "To practice more we can Move Zeros to the End\n",
        "\n",
        "Given an array, move all the zeros to the end while maintaining the relative order of the non-zero elements. Do this in-place with the two pointers technique."
      ],
      "metadata": {
        "id": "OWsOHanA6t3K"
      }
    },
    {
      "cell_type": "code",
      "source": [
        "def movezeros (nums):\n",
        "\n",
        "  left = 0\n",
        "\n",
        "  for right in range(len(nums)):\n",
        "    if nums[right] != 0:\n",
        "      nums[right], nums[left] = nums[left], nums[right]\n",
        "\n",
        "      left +=1\n",
        "\n",
        "  return nums"
      ],
      "metadata": {
        "id": "siW4F9lo0TLW"
      },
      "execution_count": 5,
      "outputs": []
    },
    {
      "cell_type": "code",
      "source": [
        "movezeros(nums = [0, 1, 0, 3, 12])"
      ],
      "metadata": {
        "colab": {
          "base_uri": "https://localhost:8080/"
        },
        "id": "qtdEZ8E98BJx",
        "outputId": "cc181988-fd3e-4350-eaa8-a608febd8ad2"
      },
      "execution_count": 7,
      "outputs": [
        {
          "output_type": "execute_result",
          "data": {
            "text/plain": [
              "[1, 3, 12, 0, 0]"
            ]
          },
          "metadata": {},
          "execution_count": 7
        }
      ]
    },
    {
      "cell_type": "markdown",
      "source": [
        "The Three Sum problem is a natural next step after mastering simpler two-pointer problems. Let’s find all unique triplets in an array that sum up to zero."
      ],
      "metadata": {
        "id": "YWaGKDJT8ZDn"
      }
    },
    {
      "cell_type": "code",
      "source": [
        "def threesum(nums, target):\n",
        "\n",
        "  output = []\n",
        "  nums.sort()\n",
        "\n",
        "  for i in range(len(nums)-2):\n",
        "    if i>0 and nums [i] == nums[i-1]:\n",
        "      continue\n",
        "    left = i+1\n",
        "    right = len(nums) -1\n",
        "\n",
        "\n",
        "    while left < right:\n",
        "      sum = nums[i] + nums[left]+ nums[right]\n",
        "      if sum == target:\n",
        "        output.append([nums[i] , nums[left], nums[right]])\n",
        "\n",
        "        while left < right and  nums[left] == nums[left+1]:\n",
        "\n",
        "          left +=1\n",
        "\n",
        "        while left < right and  nums[right] == nums[right - 1]:\n",
        "          right -= 1\n",
        "\n",
        "      elif sum < target:\n",
        "          left +=1\n",
        "\n",
        "      else:\n",
        "          right -= 1\n",
        "\n",
        "\n",
        "  return output\n",
        "\n"
      ],
      "metadata": {
        "id": "DEp1cg518J0J"
      },
      "execution_count": 13,
      "outputs": []
    },
    {
      "cell_type": "code",
      "source": [
        "threesum([-1, 0, 1, 2, -1, -4], -6)"
      ],
      "metadata": {
        "colab": {
          "base_uri": "https://localhost:8080/"
        },
        "id": "V8OEvMWk9f9-",
        "outputId": "6dcddba2-f330-48e7-a650-2a98e1398c6c"
      },
      "execution_count": 14,
      "outputs": [
        {
          "output_type": "execute_result",
          "data": {
            "text/plain": [
              "[[-4, -1, -1]]"
            ]
          },
          "metadata": {},
          "execution_count": 14
        }
      ]
    },
    {
      "cell_type": "markdown",
      "source": [],
      "metadata": {
        "id": "86LcDRv28YTa"
      }
    }
  ]
}