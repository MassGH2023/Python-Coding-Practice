{
  "nbformat": 4,
  "nbformat_minor": 0,
  "metadata": {
    "colab": {
      "provenance": [],
      "authorship_tag": "ABX9TyOopXIxzz/usP2iRWFtRh1Z",
      "include_colab_link": true
    },
    "kernelspec": {
      "name": "python3",
      "display_name": "Python 3"
    },
    "language_info": {
      "name": "python"
    }
  },
  "cells": [
    {
      "cell_type": "markdown",
      "metadata": {
        "id": "view-in-github",
        "colab_type": "text"
      },
      "source": [
        "<a href=\"https://colab.research.google.com/github/MassGH2023/Python-Coding-Practice/blob/main/two_pointers_technique.ipynb\" target=\"_parent\"><img src=\"https://colab.research.google.com/assets/colab-badge.svg\" alt=\"Open In Colab\"/></a>"
      ]
    },
    {
      "cell_type": "markdown",
      "source": [
        "# two pointers technique\n",
        "\n",
        "**Understand the Core Concept**\n",
        "\n",
        "The two pointers technique is often used to reduce the complexity of problems involving sorted arrays. The idea is to use two indices (pointers) to scan the array from opposite ends, or in some specific direction, to find a target condition efficiently."
      ],
      "metadata": {
        "id": "WmzhjEESpNvu"
      }
    },
    {
      "cell_type": "markdown",
      "source": [
        "The *simplest problem* to start learning the two pointers technique is the **\"Two Sum - Sorted Input\"**\n",
        "\n",
        "\n",
        "**Problem Statement:** Given a sorted array nums and a target sum target, find two numbers in the array that add up to the target. Return their indices or values."
      ],
      "metadata": {
        "id": "i0IrFrG_qBC8"
      }
    },
    {
      "cell_type": "markdown",
      "source": [
        "**Approach: Two Pointers**\n",
        "\n",
        "    1. Sort the array: num.sort()\n",
        "    2. Use two pointers:\n",
        "        One starting at the beginning (left) --->\n",
        "        One starting at the end (right)     <---\n",
        "    3. Calculate the sum of the two pointers:\n",
        "        If the sum is equal to the target, return the pair.\n",
        "        If the sum is less than the target, move the left pointer (to increase the sum).\n",
        "        If the sum is greater than the target, move the right pointer (to decrease the sum)."
      ],
      "metadata": {
        "id": "r1jXsGqCqSAU"
      }
    },
    {
      "cell_type": "code",
      "execution_count": null,
      "metadata": {
        "id": "bJbRU-5OpNRv"
      },
      "outputs": [],
      "source": [
        "def twosum(num, target):\n",
        "\n",
        "\n",
        "    num.sort()\n",
        "\n",
        "\n",
        "\n",
        "    left =  0\n",
        "    right = len(num)-1\n",
        "    while left < right:\n",
        "      sum = num[left] + num[right]\n",
        "\n",
        "      if sum == target:\n",
        "        return [num[left] ,num[right]]\n",
        "\n",
        "      elif sum < target:\n",
        "\n",
        "        left +=1\n",
        "\n",
        "      else:\n",
        "        right -=1\n",
        "\n",
        "    return []"
      ]
    },
    {
      "cell_type": "code",
      "source": [
        "twosum(num = [1, 2, 3, 4, 6], target = 6)"
      ],
      "metadata": {
        "colab": {
          "base_uri": "https://localhost:8080/"
        },
        "id": "dpSGGHHU0Qvm",
        "outputId": "a8bc597b-194d-4cde-f49b-5dc2d33d2d5a"
      },
      "execution_count": null,
      "outputs": [
        {
          "output_type": "execute_result",
          "data": {
            "text/plain": [
              "[2, 4]"
            ]
          },
          "metadata": {},
          "execution_count": 4
        }
      ]
    },
    {
      "cell_type": "markdown",
      "source": [
        "To practice more we can Move Zeros to the End\n",
        "\n",
        "Given an array, move all the zeros to the end while maintaining the relative order of the non-zero elements. Do this in-place with the two pointers technique."
      ],
      "metadata": {
        "id": "OWsOHanA6t3K"
      }
    },
    {
      "cell_type": "code",
      "source": [
        "def movezeros (nums):\n",
        "\n",
        "  left = 0\n",
        "\n",
        "  for right in range(len(nums)):\n",
        "    if nums[right] != 0:\n",
        "      nums[right], nums[left] = nums[left], nums[right]\n",
        "\n",
        "      left +=1\n",
        "\n",
        "  return nums"
      ],
      "metadata": {
        "id": "siW4F9lo0TLW"
      },
      "execution_count": null,
      "outputs": []
    },
    {
      "cell_type": "code",
      "source": [
        "movezeros(nums = [0, 1, 0, 3, 12])"
      ],
      "metadata": {
        "colab": {
          "base_uri": "https://localhost:8080/"
        },
        "id": "qtdEZ8E98BJx",
        "outputId": "cc181988-fd3e-4350-eaa8-a608febd8ad2"
      },
      "execution_count": null,
      "outputs": [
        {
          "output_type": "execute_result",
          "data": {
            "text/plain": [
              "[1, 3, 12, 0, 0]"
            ]
          },
          "metadata": {},
          "execution_count": 7
        }
      ]
    },
    {
      "cell_type": "markdown",
      "source": [
        "The **Three Sum** problem is a natural next step after mastering simpler two-pointer problems. Let’s find all unique triplets in an array that sum up to zero."
      ],
      "metadata": {
        "id": "YWaGKDJT8ZDn"
      }
    },
    {
      "cell_type": "code",
      "source": [
        "def threesum(nums, target):\n",
        "\n",
        "  output = []\n",
        "  nums.sort()\n",
        "\n",
        "  for i in range(len(nums)-2):\n",
        "    if i>0 and nums [i] == nums[i-1]:\n",
        "      continue\n",
        "    left = i+1\n",
        "    right = len(nums) -1\n",
        "\n",
        "\n",
        "    while left < right:\n",
        "      sum = nums[i] + nums[left]+ nums[right]\n",
        "      if sum == target:\n",
        "        output.append([nums[i] , nums[left], nums[right]])\n",
        "\n",
        "        while left < right and  nums[left] == nums[left+1]:\n",
        "\n",
        "          left +=1\n",
        "\n",
        "        while left < right and  nums[right] == nums[right - 1]:\n",
        "          right -= 1\n",
        "\n",
        "      elif sum < target:\n",
        "          left +=1\n",
        "\n",
        "      else:\n",
        "          right -= 1\n",
        "\n",
        "\n",
        "  return output\n",
        "\n"
      ],
      "metadata": {
        "id": "DEp1cg518J0J"
      },
      "execution_count": null,
      "outputs": []
    },
    {
      "cell_type": "code",
      "source": [
        "threesum([-1, 0, 1, 2, -1, -4], -6)"
      ],
      "metadata": {
        "colab": {
          "base_uri": "https://localhost:8080/"
        },
        "id": "V8OEvMWk9f9-",
        "outputId": "6dcddba2-f330-48e7-a650-2a98e1398c6c"
      },
      "execution_count": null,
      "outputs": [
        {
          "output_type": "execute_result",
          "data": {
            "text/plain": [
              "[[-4, -1, -1]]"
            ]
          },
          "metadata": {},
          "execution_count": 14
        }
      ]
    },
    {
      "cell_type": "markdown",
      "source": [
        "# Reverse an Array"
      ],
      "metadata": {
        "id": "OPSbWwHQV8eC"
      }
    },
    {
      "cell_type": "code",
      "source": [
        "class Sol():\n",
        "  def RevArr (self, arr):\n",
        "\n",
        "    left = 0\n",
        "    right = len(arr)-1\n",
        "\n",
        "    while left < right:\n",
        "\n",
        "      arr[left], arr[right] = arr[right] , arr[left]\n",
        "\n",
        "      right -=1\n",
        "      left += 1\n",
        "\n",
        "    return arr"
      ],
      "metadata": {
        "id": "nB037KiwVxml"
      },
      "execution_count": 1,
      "outputs": []
    },
    {
      "cell_type": "code",
      "source": [
        "Sol().RevArr([1, 2, 3, 4, 5])"
      ],
      "metadata": {
        "colab": {
          "base_uri": "https://localhost:8080/"
        },
        "id": "E7sGY4xqWuaN",
        "outputId": "45be7813-d875-4f51-f406-3cbee2941113"
      },
      "execution_count": 2,
      "outputs": [
        {
          "output_type": "execute_result",
          "data": {
            "text/plain": [
              "[5, 4, 3, 2, 1]"
            ]
          },
          "metadata": {},
          "execution_count": 2
        }
      ]
    },
    {
      "cell_type": "markdown",
      "source": [
        "# Check if a String is a Palindrome"
      ],
      "metadata": {
        "id": "86LcDRv28YTa"
      }
    },
    {
      "cell_type": "code",
      "source": [
        "def pal(strng):\n",
        "\n",
        "  left = 0\n",
        "  right = len(strng)- 1\n",
        "\n",
        "  while left < right:\n",
        "\n",
        "    if strng[left] == strng [right]:\n",
        "      left +=1\n",
        "      right -=1\n",
        "\n",
        "    else:\n",
        "      return False\n",
        "  return True"
      ],
      "metadata": {
        "id": "IsYXxnXfXC_y"
      },
      "execution_count": 3,
      "outputs": []
    },
    {
      "cell_type": "code",
      "source": [
        "pal('hello')"
      ],
      "metadata": {
        "colab": {
          "base_uri": "https://localhost:8080/"
        },
        "id": "L7otXKLcX2Ej",
        "outputId": "483845a0-6a20-4510-9e67-83f91e1b6e8a"
      },
      "execution_count": 4,
      "outputs": [
        {
          "output_type": "execute_result",
          "data": {
            "text/plain": [
              "False"
            ]
          },
          "metadata": {},
          "execution_count": 4
        }
      ]
    },
    {
      "cell_type": "code",
      "source": [
        "pal('radar')"
      ],
      "metadata": {
        "colab": {
          "base_uri": "https://localhost:8080/"
        },
        "id": "sGiPfObkX4Tj",
        "outputId": "84d7ac3d-1818-4899-ad1e-937a876c26bf"
      },
      "execution_count": 5,
      "outputs": [
        {
          "output_type": "execute_result",
          "data": {
            "text/plain": [
              "True"
            ]
          },
          "metadata": {},
          "execution_count": 5
        }
      ]
    },
    {
      "cell_type": "markdown",
      "source": [
        "# Four Sum"
      ],
      "metadata": {
        "id": "HC6Ydb6ibNJ8"
      }
    },
    {
      "cell_type": "code",
      "source": [
        "def FourSum(arr, target):\n",
        "\n",
        "  arr.sort()\n",
        "\n",
        "  left , right = 2, len(arr)-1\n",
        "  output= []\n",
        "\n",
        "  for i in range(len(arr)):\n",
        "    if i>0 and arr[i] == arr[i-1]:\n",
        "      continue\n",
        "    for j in range(i+1, len(arr)):\n",
        "      if j>i+1 and arr[j] == arr[j-1]:\n",
        "        continue\n",
        "      left , right = j+1, len(arr)-1\n",
        "      while left < right:\n",
        "\n",
        "        if (arr[left] + arr[right]) == (target - arr[i] - arr[j]):\n",
        "          output.append([arr[i] , arr[j], arr[left] , arr[right]])\n",
        "          while left < right and arr[left] == arr[left+1]:\n",
        "            left +=1\n",
        "\n",
        "          while right > left and arr[right] == arr[right-1]:\n",
        "            right -=1\n",
        "          left +=1\n",
        "          right -=1\n",
        "        if arr[left] + arr[right] > target - arr[i] - arr[j]:\n",
        "          right -=1\n",
        "\n",
        "        else:\n",
        "          left +=1\n",
        "\n",
        "  return output"
      ],
      "metadata": {
        "id": "0eEQyyOdX7jS"
      },
      "execution_count": 19,
      "outputs": []
    },
    {
      "cell_type": "code",
      "source": [
        "FourSum(arr = [1, 0, -1, 0, -2, 2], target = 0)"
      ],
      "metadata": {
        "colab": {
          "base_uri": "https://localhost:8080/"
        },
        "id": "0k_SXhEud9xp",
        "outputId": "3c6d9849-bde1-4a38-99b0-ccbbb2525108"
      },
      "execution_count": 20,
      "outputs": [
        {
          "output_type": "execute_result",
          "data": {
            "text/plain": [
              "[[-2, -1, 1, 2], [-2, 0, 0, 2], [-1, 0, 0, 1]]"
            ]
          },
          "metadata": {},
          "execution_count": 20
        }
      ]
    },
    {
      "cell_type": "code",
      "source": [],
      "metadata": {
        "id": "em1HFvWxq4AJ"
      },
      "execution_count": null,
      "outputs": []
    },
    {
      "cell_type": "code",
      "source": [],
      "metadata": {
        "id": "hKg3nenZq4RM"
      },
      "execution_count": null,
      "outputs": []
    },
    {
      "cell_type": "code",
      "source": [],
      "metadata": {
        "id": "-_XOeMfXeEH4"
      },
      "execution_count": null,
      "outputs": []
    }
  ]
}