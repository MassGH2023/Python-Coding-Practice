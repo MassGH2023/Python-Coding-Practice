{
  "nbformat": 4,
  "nbformat_minor": 0,
  "metadata": {
    "colab": {
      "provenance": [],
      "authorship_tag": "ABX9TyPLQ2v6RYx3tCUKWaSpLRdZ",
      "include_colab_link": true
    },
    "kernelspec": {
      "name": "python3",
      "display_name": "Python 3"
    },
    "language_info": {
      "name": "python"
    }
  },
  "cells": [
    {
      "cell_type": "markdown",
      "metadata": {
        "id": "view-in-github",
        "colab_type": "text"
      },
      "source": [
        "<a href=\"https://colab.research.google.com/github/MassGH2023/Python-Coding-Practice/blob/main/Python_Coding_Practice.ipynb\" target=\"_parent\"><img src=\"https://colab.research.google.com/assets/colab-badge.svg\" alt=\"Open In Colab\"/></a>"
      ]
    },
    {
      "cell_type": "markdown",
      "source": [
        "# Palindrome"
      ],
      "metadata": {
        "id": "VBpoU5eAZvMw"
      }
    },
    {
      "cell_type": "code",
      "execution_count": null,
      "metadata": {
        "id": "EcFRUdNnV8dY"
      },
      "outputs": [],
      "source": [
        "st='abcd'"
      ]
    },
    {
      "cell_type": "code",
      "source": [
        "class Solution(object):\n",
        "    def isPalindrome(self, x):\n",
        "        \"\"\"\n",
        "        :type x: int\n",
        "        :rtype: bool\n",
        "        \"\"\"\n",
        "        lst = str(x)\n",
        "        new = []\n",
        "        for i in range(1,len(lst)+1):\n",
        "            new.append(lst[-i])\n",
        "\n",
        "        return \"\".join(new) == lst\n",
        "\n"
      ],
      "metadata": {
        "id": "jn9RWemsWBku"
      },
      "execution_count": null,
      "outputs": []
    },
    {
      "cell_type": "code",
      "source": [
        "s = Solution()\n",
        "s.isPalindrome(st2)"
      ],
      "metadata": {
        "colab": {
          "base_uri": "https://localhost:8080/"
        },
        "id": "dsTx-fuVWt_W",
        "outputId": "87cb4897-29b2-462e-e073-dfcf818ef402"
      },
      "execution_count": null,
      "outputs": [
        {
          "output_type": "execute_result",
          "data": {
            "text/plain": [
              "False"
            ]
          },
          "metadata": {},
          "execution_count": 18
        }
      ]
    },
    {
      "cell_type": "code",
      "source": [
        "class Solution(object):\n",
        "    def isPalindrome(self, x):\n",
        "        \"\"\"\n",
        "        :type x: int\n",
        "        :rtype: bool\n",
        "        \"\"\"\n",
        "        lst = str(x)\n",
        "        return lst[::-1] == lst"
      ],
      "metadata": {
        "id": "DpClb3K3WnY_"
      },
      "execution_count": null,
      "outputs": []
    },
    {
      "cell_type": "code",
      "source": [
        "st2 = \"anmna\"\n",
        "s = Solution()\n",
        "s.isPalindrome(st2)"
      ],
      "metadata": {
        "colab": {
          "base_uri": "https://localhost:8080/"
        },
        "id": "_Po-dvb2WpmL",
        "outputId": "cdca3701-0aaf-4d0f-96d9-69f3a363c080"
      },
      "execution_count": null,
      "outputs": [
        {
          "output_type": "execute_result",
          "data": {
            "text/plain": [
              "True"
            ]
          },
          "metadata": {},
          "execution_count": 21
        }
      ]
    },
    {
      "cell_type": "markdown",
      "source": [
        "# Two Sum"
      ],
      "metadata": {
        "id": "B2Db0kXHZ5wd"
      }
    },
    {
      "cell_type": "code",
      "source": [
        "class Solution(object):\n",
        "    def twoSum(self, nums, target):\n",
        "        \"\"\"\n",
        "        :type nums: List[int]\n",
        "        :type target: int\n",
        "        :rtype: List[int]\n",
        "        \"\"\"\n",
        "        for i in range(0,len(nums)):\n",
        "            for j in range(i+1, len(nums)):\n",
        "                if nums[i] + nums[j] == target:\n",
        "                    return [i,j]"
      ],
      "metadata": {
        "id": "7UgX1NB0YzQs"
      },
      "execution_count": null,
      "outputs": []
    },
    {
      "cell_type": "code",
      "source": [
        "s = Solution()\n",
        "s.twoSum(nums = [2,7,11,15], target = 9)"
      ],
      "metadata": {
        "colab": {
          "base_uri": "https://localhost:8080/"
        },
        "id": "FGh7MOfVaEMN",
        "outputId": "7ae38e24-c32a-4392-d59a-b5fb5eb90774"
      },
      "execution_count": null,
      "outputs": [
        {
          "output_type": "execute_result",
          "data": {
            "text/plain": [
              "[0, 1]"
            ]
          },
          "metadata": {},
          "execution_count": 26
        }
      ]
    },
    {
      "cell_type": "code",
      "source": [
        "# Definition for singly-linked list.\n",
        "# class ListNode(object):\n",
        "#     def __init__(self, val=0, next=None):\n",
        "#         self.val = val\n",
        "#         self.next = next\n",
        "class Solution(object):\n",
        "    def addTwoNumbers(self, l1, l2):\n",
        "        \"\"\"\n",
        "        :type l1: Optional[ListNode]\n",
        "        :type l2: Optional[ListNode]\n",
        "        :rtype: Optional[ListNode]\n",
        "        \"\"\"\n",
        "        l11 = []\n",
        "        l22 = []\n",
        "        for i in range(1,len(l1)+1):\n",
        "            l11.append(str(l1[-i]))\n",
        "        for i in range(1,len(l2)+1):\n",
        "            l22.append(str(l2[-i]))\n",
        "\n",
        "        l111 = int(\"\".join(l11))\n",
        "        l222 = int(\"\".join(l22))\n",
        "        res = []\n",
        "        result = str(l111+l222)\n",
        "        for i in range(1,len(result)+1):\n",
        "            res.append(int(result[-i]))\n",
        "\n",
        "        return res\n",
        "\n",
        "\n"
      ],
      "metadata": {
        "id": "y5yB96X0aN5K"
      },
      "execution_count": null,
      "outputs": []
    },
    {
      "cell_type": "code",
      "source": [
        "s = Solution()\n",
        "s.addTwoNumbers(l1 = [2,4,3], l2 = [5,6,4])"
      ],
      "metadata": {
        "colab": {
          "base_uri": "https://localhost:8080/"
        },
        "id": "naIAEANrbXNy",
        "outputId": "ab6a9ba5-8f9d-44f8-c3c7-8b6fb7553b89"
      },
      "execution_count": null,
      "outputs": [
        {
          "output_type": "execute_result",
          "data": {
            "text/plain": [
              "[7, 0, 8]"
            ]
          },
          "metadata": {},
          "execution_count": 46
        }
      ]
    },
    {
      "cell_type": "markdown",
      "source": [
        "# Longest Substring Without Repeating Characters\n",
        "check"
      ],
      "metadata": {
        "id": "y_h7j9owBlQf"
      }
    },
    {
      "cell_type": "code",
      "source": [
        "class Solution3(object):\n",
        "    def lengthOfLongestSubstring(self, s):\n",
        "        \"\"\"\n",
        "        :type s: str\n",
        "        :rtype: int\n",
        "        \"\"\"\n",
        "\n",
        "\n",
        "        charset = set()\n",
        "        start = 0\n",
        "        maxlen = 0\n",
        "\n",
        "        for e in range(len(s)):\n",
        "          while s[e] in charset:\n",
        "            charset.remove(s[start])\n",
        "            start+=1\n",
        "\n",
        "          charset.add(s[e])\n",
        "\n",
        "          maxlen = max(maxlen, e-start +1)\n",
        "\n",
        "        return maxlen"
      ],
      "metadata": {
        "id": "Fo0xBYvZbc76"
      },
      "execution_count": null,
      "outputs": []
    },
    {
      "cell_type": "code",
      "source": [
        "s = Solution3()\n",
        "s.lengthOfLongestSubstring(s = \"abcabcbb\")"
      ],
      "metadata": {
        "colab": {
          "base_uri": "https://localhost:8080/"
        },
        "id": "I1eoqdtkD99U",
        "outputId": "175d5878-ac03-4680-da87-3a9ffd3798b9"
      },
      "execution_count": null,
      "outputs": [
        {
          "output_type": "execute_result",
          "data": {
            "text/plain": [
              "3"
            ]
          },
          "metadata": {},
          "execution_count": 34
        }
      ]
    },
    {
      "cell_type": "markdown",
      "source": [
        "# Median of Two Sorted Arrays\n"
      ],
      "metadata": {
        "id": "z3AOs4UNR9z5"
      }
    },
    {
      "cell_type": "code",
      "source": [
        "import numpy as np\n",
        "\n",
        "\n",
        "class Solution4(object):\n",
        "    def findMedianSortedArrays(self, nums1, nums2):\n",
        "        \"\"\"\n",
        "        :type nums1: List[int]\n",
        "        :type nums2: List[int]\n",
        "        :rtype: float\n",
        "        \"\"\"\n",
        "\n",
        "        return np.median(np.sort(np.array(nums1+nums2)))"
      ],
      "metadata": {
        "id": "aLmTBIWnK3SO"
      },
      "execution_count": null,
      "outputs": []
    },
    {
      "cell_type": "code",
      "source": [
        "s = Solution4()\n",
        "s.findMedianSortedArrays(nums1 = [1,2], nums2 = [3,4])"
      ],
      "metadata": {
        "colab": {
          "base_uri": "https://localhost:8080/"
        },
        "id": "TicNk8OjK4jj",
        "outputId": "7ad37254-c664-4f38-b23a-3ddcb9acfa27"
      },
      "execution_count": null,
      "outputs": [
        {
          "output_type": "execute_result",
          "data": {
            "text/plain": [
              "2.5"
            ]
          },
          "metadata": {},
          "execution_count": 43
        }
      ]
    },
    {
      "cell_type": "code",
      "source": [
        "rows = [\"\"]*3"
      ],
      "metadata": {
        "id": "KPHvqG1leBSc"
      },
      "execution_count": null,
      "outputs": []
    },
    {
      "cell_type": "code",
      "source": [
        "rows"
      ],
      "metadata": {
        "colab": {
          "base_uri": "https://localhost:8080/"
        },
        "id": "n4FKJ-TNeCTi",
        "outputId": "114f6a17-c202-4392-ff7e-833fb7b8f8f1"
      },
      "execution_count": null,
      "outputs": [
        {
          "output_type": "execute_result",
          "data": {
            "text/plain": [
              "['P', 'A', '']"
            ]
          },
          "metadata": {},
          "execution_count": 11
        }
      ]
    },
    {
      "cell_type": "code",
      "source": [
        "rows[1] += 'A'"
      ],
      "metadata": {
        "id": "hn6b0Tb0eQlR"
      },
      "execution_count": null,
      "outputs": []
    },
    {
      "cell_type": "markdown",
      "source": [
        "# zigzag"
      ],
      "metadata": {
        "id": "AGoQ-kUPx2bC"
      }
    },
    {
      "cell_type": "code",
      "source": [
        "class Solution5:\n",
        "    def convert(self, s, numRows):\n",
        "        \"\"\"\n",
        "        :type s: str\n",
        "        :type numRows: int\n",
        "        :rtype: str\n",
        "        \"\"\"\n",
        "        if numRows == 1 or numRows >= len(s):\n",
        "            return s  # No zigzag needed\n",
        "\n",
        "        rows = [\"\"]*numRows\n",
        "        current = 0\n",
        "        d = True\n",
        "\n",
        "        for c in s:\n",
        "          rows[current] += c\n",
        "\n",
        "          if current == 0:\n",
        "            d = True\n",
        "\n",
        "          elif current == numRows -1:\n",
        "            d = False\n",
        "\n",
        "\n",
        "          current += 1 if d else -1\n",
        "\n",
        "        return \"\".join(rows)\n"
      ],
      "metadata": {
        "id": "FBFMSJWmgD6H"
      },
      "execution_count": null,
      "outputs": []
    },
    {
      "cell_type": "code",
      "source": [
        "Solution5().convert(\"PAYPALISHIRING\", 3)"
      ],
      "metadata": {
        "colab": {
          "base_uri": "https://localhost:8080/",
          "height": 35
        },
        "id": "Yf8hSzIShFP9",
        "outputId": "a56bd061-510b-493f-a0e6-e9cc19d10c64"
      },
      "execution_count": null,
      "outputs": [
        {
          "output_type": "execute_result",
          "data": {
            "text/plain": [
              "'PAHNAPLSIIGYIR'"
            ],
            "application/vnd.google.colaboratory.intrinsic+json": {
              "type": "string"
            }
          },
          "metadata": {},
          "execution_count": 21
        }
      ]
    },
    {
      "cell_type": "markdown",
      "source": [
        "# **Reverse Integer**\n"
      ],
      "metadata": {
        "id": "u3uX63ELmqUR"
      }
    },
    {
      "cell_type": "code",
      "source": [
        "class Solution6(object):\n",
        "    def reverse(self, x):\n",
        "        \"\"\"\n",
        "        :type x: int\n",
        "        :rtype: int\n",
        "        \"\"\"\n",
        "\n",
        "        is_neg = x <0\n",
        "\n",
        "        x_str = str(abs(x))\n",
        "        x_rev = x_str[::-1]\n",
        "\n",
        "        x_rev_int = int(x_rev)\n",
        "\n",
        "        if x < 0:\n",
        "            x_rev_int = -x_rev_int\n",
        "\n",
        "        if x_rev_int < -2**31 or x_rev_int > 2**31 - 1:\n",
        "            return 0\n",
        "\n",
        "        return x_rev_int"
      ],
      "metadata": {
        "id": "-leR3MzQiD6W"
      },
      "execution_count": null,
      "outputs": []
    },
    {
      "cell_type": "code",
      "source": [
        "Solution6().reverse( -1354)"
      ],
      "metadata": {
        "colab": {
          "base_uri": "https://localhost:8080/"
        },
        "id": "6C86loz4kZCe",
        "outputId": "aacde691-69f7-425d-d12c-39f25a0773f9"
      },
      "execution_count": null,
      "outputs": [
        {
          "output_type": "execute_result",
          "data": {
            "text/plain": [
              "-4531"
            ]
          },
          "metadata": {},
          "execution_count": 33
        }
      ]
    },
    {
      "cell_type": "markdown",
      "source": [
        "# String to Integer (atoi)\n"
      ],
      "metadata": {
        "id": "Sue2bhCQntw2"
      }
    },
    {
      "cell_type": "code",
      "source": [
        "class Solution7(object):\n",
        "    def myAtoi(self, s):\n",
        "        \"\"\"\n",
        "        :type s: str\n",
        "        :rtype: int\n",
        "        \"\"\"\n",
        "        s = s.lstrip()\n",
        "        if not s:\n",
        "          return 0\n",
        "\n",
        "        sign = 1\n",
        "\n",
        "        if s[0] == \"-\":\n",
        "          sign = -1\n",
        "          s = s[1:]\n",
        "\n",
        "        elif s[0] == \"+\":\n",
        "          s = s[1:]\n",
        "\n",
        "\n",
        "        result = 0\n",
        "\n",
        "\n",
        "        for char in s:\n",
        "          if char.isdigit():\n",
        "            result = result*10 + int(char)\n",
        "\n",
        "          else:\n",
        "            break\n",
        "\n",
        "\n",
        "        result *= sign\n",
        "\n",
        "        INT_MIN = -2**31\n",
        "        INT_MAX = 2**31 - 1\n",
        "        if result < INT_MIN:\n",
        "            return INT_MIN\n",
        "        if result > INT_MAX:\n",
        "            return INT_MAX\n",
        "\n",
        "        return result"
      ],
      "metadata": {
        "id": "8e9kfDQem1cd"
      },
      "execution_count": null,
      "outputs": []
    },
    {
      "cell_type": "code",
      "source": [
        "res = []\n",
        "for c in [\"32\", '-934864-33', \"1337c0d3\", \"words and 987\"]:\n",
        "\n",
        "  res.append(Solution7().myAtoi(c))"
      ],
      "metadata": {
        "id": "l7Q7Zo1joCTU"
      },
      "execution_count": null,
      "outputs": []
    },
    {
      "cell_type": "code",
      "source": [
        "res"
      ],
      "metadata": {
        "colab": {
          "base_uri": "https://localhost:8080/"
        },
        "id": "vizEpYDAorE1",
        "outputId": "f32d63fb-05a2-4c5b-fd4b-75c50767d93d"
      },
      "execution_count": null,
      "outputs": [
        {
          "output_type": "execute_result",
          "data": {
            "text/plain": [
              "[32, -934864, 1337, 0]"
            ]
          },
          "metadata": {},
          "execution_count": 48
        }
      ]
    },
    {
      "cell_type": "markdown",
      "source": [
        "# Container With Most Water\n"
      ],
      "metadata": {
        "id": "pEjJOepj-jR8"
      }
    },
    {
      "cell_type": "code",
      "source": [
        "class Solution8(object):\n",
        "    def maxArea(self, height):\n",
        "        \"\"\"\n",
        "        :type height: List[int]\n",
        "        :rtype: int\n",
        "        \"\"\"\n",
        "        area = []\n",
        "        for i in range(len(height)):\n",
        "            for j in range(i+1, len(height)):\n",
        "\n",
        "                area.append((j-i)*min(height[j], height[i]))\n",
        "\n",
        "        return max(area)\n",
        "\n"
      ],
      "metadata": {
        "id": "AyBdOnvHpNJX"
      },
      "execution_count": 1,
      "outputs": []
    },
    {
      "cell_type": "code",
      "source": [
        "Solution8().maxArea(height = [1,8,6,2,5,4,8,3,7])"
      ],
      "metadata": {
        "id": "f253T2dA-vf6",
        "outputId": "cb80640b-55c8-4b20-de8d-dc220de4cfe2",
        "colab": {
          "base_uri": "https://localhost:8080/"
        }
      },
      "execution_count": 2,
      "outputs": [
        {
          "output_type": "execute_result",
          "data": {
            "text/plain": [
              "49"
            ]
          },
          "metadata": {},
          "execution_count": 2
        }
      ]
    },
    {
      "cell_type": "markdown",
      "source": [
        "# Integer to Roman\n"
      ],
      "metadata": {
        "id": "NtbsCmjcBRhB"
      }
    },
    {
      "cell_type": "code",
      "source": [
        "(1234 // (10**len(str(1234))-1))*1000"
      ],
      "metadata": {
        "id": "HI08PsnK-0vi",
        "outputId": "941035c9-d38b-475d-ebc5-615aa0d4cf8c",
        "colab": {
          "base_uri": "https://localhost:8080/"
        }
      },
      "execution_count": 11,
      "outputs": [
        {
          "output_type": "execute_result",
          "data": {
            "text/plain": [
              "0"
            ]
          },
          "metadata": {},
          "execution_count": 11
        }
      ]
    },
    {
      "cell_type": "code",
      "source": [
        "(1234 // (10**(len(str(1234))-1)))*(10**(len(str(1234))-1))"
      ],
      "metadata": {
        "id": "tmImF0WGBWRz",
        "outputId": "3cadfd06-4c80-407c-8416-1797eafdd164",
        "colab": {
          "base_uri": "https://localhost:8080/"
        }
      },
      "execution_count": 17,
      "outputs": [
        {
          "output_type": "execute_result",
          "data": {
            "text/plain": [
              "1000"
            ]
          },
          "metadata": {},
          "execution_count": 17
        }
      ]
    },
    {
      "cell_type": "code",
      "source": [
        "num = 1234\n",
        "num2 = (num%(10**(len(str(num))-1)))\n",
        "(num // (10**(len(str(num))-1)))*(10**(len(str(num))-1))\n",
        "num"
      ],
      "metadata": {
        "id": "KKi_ik7cBvR7",
        "outputId": "7aab5b53-817a-450b-a5bf-a80fe5f8f322",
        "colab": {
          "base_uri": "https://localhost:8080/"
        }
      },
      "execution_count": 31,
      "outputs": [
        {
          "output_type": "execute_result",
          "data": {
            "text/plain": [
              "1000"
            ]
          },
          "metadata": {},
          "execution_count": 31
        }
      ]
    },
    {
      "cell_type": "code",
      "source": [
        "num2"
      ],
      "metadata": {
        "id": "RMlsbkWmCKtR",
        "outputId": "37c8b9d7-18f9-49cf-a581-c05a20b56c39",
        "colab": {
          "base_uri": "https://localhost:8080/"
        }
      },
      "execution_count": 32,
      "outputs": [
        {
          "output_type": "execute_result",
          "data": {
            "text/plain": [
              "234"
            ]
          },
          "metadata": {},
          "execution_count": 32
        }
      ]
    },
    {
      "cell_type": "code",
      "source": [
        "num = 2334\n",
        "numlist = []\n",
        "for i in range(len(str(num))):\n",
        "  num1 = num\n",
        "  num2 = (num1%(10**(len(str(num))-1)))\n",
        "  numlist.append((num1 // (10**(len(str(num1))-1)))*(10**(len(str(num1))-1)))\n",
        "  num1 = num2\n"
      ],
      "metadata": {
        "id": "2zXRB5KYCUxp"
      },
      "execution_count": 35,
      "outputs": []
    },
    {
      "cell_type": "code",
      "source": [
        "numlist"
      ],
      "metadata": {
        "id": "yEuDHfjQC2NZ",
        "outputId": "1f260165-a6e4-4661-d15c-394f56578190",
        "colab": {
          "base_uri": "https://localhost:8080/"
        }
      },
      "execution_count": 37,
      "outputs": [
        {
          "output_type": "execute_result",
          "data": {
            "text/plain": [
              "[2000, 2000, 2000, 2000]"
            ]
          },
          "metadata": {},
          "execution_count": 37
        }
      ]
    },
    {
      "cell_type": "code",
      "source": [],
      "metadata": {
        "id": "iy5Ed5uEDWdx"
      },
      "execution_count": null,
      "outputs": []
    }
  ]
}