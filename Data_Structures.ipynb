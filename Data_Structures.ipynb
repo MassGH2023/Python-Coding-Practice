{
  "nbformat": 4,
  "nbformat_minor": 0,
  "metadata": {
    "colab": {
      "provenance": [],
      "authorship_tag": "ABX9TyMEvV2W9S7VTPCM4SLe51Kd",
      "include_colab_link": true
    },
    "kernelspec": {
      "name": "python3",
      "display_name": "Python 3"
    },
    "language_info": {
      "name": "python"
    }
  },
  "cells": [
    {
      "cell_type": "markdown",
      "metadata": {
        "id": "view-in-github",
        "colab_type": "text"
      },
      "source": [
        "<a href=\"https://colab.research.google.com/github/MassGH2023/Python-Coding-Practice/blob/main/Data_Structures.ipynb\" target=\"_parent\"><img src=\"https://colab.research.google.com/assets/colab-badge.svg\" alt=\"Open In Colab\"/></a>"
      ]
    },
    {
      "cell_type": "markdown",
      "source": [],
      "metadata": {
        "id": "irna9vQG0CHs"
      }
    },
    {
      "cell_type": "markdown",
      "source": [
        "# Stack\n",
        "\n",
        "\n",
        "A stack is a linear data structure that follows the Last In, First Out (LIFO) principle.\n",
        "\n",
        "Key operations for a stack include:\n",
        "\n",
        "* Push: Adding an item to the top of the stack.\n",
        "* Pop: Removing the top item from the stack.\n",
        "* Peek: Viewing the top item without removing it.\n",
        "\n",
        "\n",
        "\n",
        "\n",
        "> **a stack is a concept, while a list is a specific Python data type. What distinguishes a stack from a generic list is how you use it.**\n",
        "\n",
        "It’s a stack if:\n",
        "\n",
        "* You only use `append()` to add and `pop()` to remove.\n",
        "* You follow the LIFO principle.\n",
        "\n",
        "\n",
        "list.insert(pos, elmnt)\n",
        "\n",
        "list.append(elmnt)\n",
        "\n",
        "list.pop(pos)"
      ],
      "metadata": {
        "id": "X1xTWEyXrEok"
      }
    },
    {
      "cell_type": "code",
      "execution_count": 5,
      "metadata": {
        "id": "NaYhQt20rAjU"
      },
      "outputs": [],
      "source": [
        "def push(stack, item):\n",
        "  stack.insert(len(stack),item) # Inefficient, O(n) time complexity (shifts all elements).\n",
        "\n",
        "  return stack\n",
        "\n"
      ]
    },
    {
      "cell_type": "code",
      "source": [
        "push([10, 20, 30], 15)"
      ],
      "metadata": {
        "colab": {
          "base_uri": "https://localhost:8080/"
        },
        "id": "4SUlT7pkuWu1",
        "outputId": "c3df44a6-92bc-49e9-fd36-6afb2b766c8e"
      },
      "execution_count": 6,
      "outputs": [
        {
          "output_type": "execute_result",
          "data": {
            "text/plain": [
              "[10, 20, 30, 15]"
            ]
          },
          "metadata": {},
          "execution_count": 6
        }
      ]
    },
    {
      "cell_type": "code",
      "source": [
        "push([15, 10, 20, 30], 12)"
      ],
      "metadata": {
        "colab": {
          "base_uri": "https://localhost:8080/"
        },
        "id": "j3ESoxc7ubF1",
        "outputId": "adb7134a-caef-47d9-e0c9-df6a8bf2c46f"
      },
      "execution_count": 7,
      "outputs": [
        {
          "output_type": "execute_result",
          "data": {
            "text/plain": [
              "[15, 10, 20, 30, 12]"
            ]
          },
          "metadata": {},
          "execution_count": 7
        }
      ]
    },
    {
      "cell_type": "code",
      "source": [
        "stack = [15, 10, 20, 30, 12]\n",
        "stack.append(28) # Efficient, O(1) time complexity.\n",
        "stack"
      ],
      "metadata": {
        "colab": {
          "base_uri": "https://localhost:8080/"
        },
        "id": "8LpSgQpZuh2V",
        "outputId": "1309d673-ac5d-4450-f867-7a8f822b0a0a"
      },
      "execution_count": 14,
      "outputs": [
        {
          "output_type": "execute_result",
          "data": {
            "text/plain": [
              "[15, 10, 20, 30, 12, 28]"
            ]
          },
          "metadata": {},
          "execution_count": 14
        }
      ]
    },
    {
      "cell_type": "code",
      "source": [
        "stack.pop()\n",
        "stack"
      ],
      "metadata": {
        "colab": {
          "base_uri": "https://localhost:8080/"
        },
        "id": "MiFHgusvvZEm",
        "outputId": "db3f0caf-fbb2-410d-8046-278387c9cc02"
      },
      "execution_count": 15,
      "outputs": [
        {
          "output_type": "execute_result",
          "data": {
            "text/plain": [
              "[15, 10, 20, 30, 12]"
            ]
          },
          "metadata": {},
          "execution_count": 15
        }
      ]
    },
    {
      "cell_type": "markdown",
      "source": [
        "**peek operation**"
      ],
      "metadata": {
        "id": "LMAIYKklwc0m"
      }
    },
    {
      "cell_type": "code",
      "source": [
        "stack[-1]"
      ],
      "metadata": {
        "colab": {
          "base_uri": "https://localhost:8080/"
        },
        "id": "_3rVi21yvrDN",
        "outputId": "c721e9d7-3bcf-43ba-ccc2-150515b057cb"
      },
      "execution_count": 16,
      "outputs": [
        {
          "output_type": "execute_result",
          "data": {
            "text/plain": [
              "12"
            ]
          },
          "metadata": {},
          "execution_count": 16
        }
      ]
    },
    {
      "cell_type": "code",
      "source": [],
      "metadata": {
        "id": "M4YTv7BGwMqM"
      },
      "execution_count": null,
      "outputs": []
    }
  ]
}