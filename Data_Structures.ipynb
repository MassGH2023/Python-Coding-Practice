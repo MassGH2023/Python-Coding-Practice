{
  "nbformat": 4,
  "nbformat_minor": 0,
  "metadata": {
    "colab": {
      "provenance": [],
      "authorship_tag": "ABX9TyMjhvqhGy3yvqTsHqPjPw4z",
      "include_colab_link": true
    },
    "kernelspec": {
      "name": "python3",
      "display_name": "Python 3"
    },
    "language_info": {
      "name": "python"
    }
  },
  "cells": [
    {
      "cell_type": "markdown",
      "metadata": {
        "id": "view-in-github",
        "colab_type": "text"
      },
      "source": [
        "<a href=\"https://colab.research.google.com/github/MassGH2023/Python-Coding-Practice/blob/main/Data_Structures.ipynb\" target=\"_parent\"><img src=\"https://colab.research.google.com/assets/colab-badge.svg\" alt=\"Open In Colab\"/></a>"
      ]
    },
    {
      "cell_type": "markdown",
      "source": [
        "# OOP in Python\n",
        "\n",
        "An object is an instance of a class. Think of it as a specific, tangible version of the \"blueprint\" defined by the class.\n",
        "Analogy with Excel:\n",
        "\n",
        "* A class is like a template for a form in Excel.\n",
        "* An object is a filled-out copy of that form with specific data.\n",
        "\n",
        "```\n",
        "class ClassName:\n",
        "    def __init__(self, attributes):\n",
        "        self.attributes = attributes  # Initialize object attributes\n",
        "    \n",
        "    def method_name(self):\n",
        "        # Define behavior\n",
        "        pass\n",
        "\n",
        "```\n",
        "\n",
        "\n"
      ],
      "metadata": {
        "id": "irna9vQG0CHs"
      }
    },
    {
      "cell_type": "code",
      "source": [
        "class car:\n",
        "\n",
        "  def __init__(self, brand, model):\n",
        "    self.car_brand = brand\n",
        "    self.car_model = model\n",
        "    self.miles = 10\n",
        "\n",
        "  def info(self):\n",
        "    print(f\"the car is a {self.car_brand} {self.car_model}\")\n",
        "\n",
        "  def mile(self, miles):\n",
        "    self.miles += miles\n",
        "    print(f\"the milage is {self.miles} miles\")"
      ],
      "metadata": {
        "id": "rNidGOXH181C"
      },
      "execution_count": 30,
      "outputs": []
    },
    {
      "cell_type": "code",
      "source": [
        "car1 = car('Honda', 'CRV')\n",
        "car1.info()\n",
        "car1.mile(10)"
      ],
      "metadata": {
        "id": "UOftlCAD2l7O",
        "outputId": "01c1b836-3938-4f2b-e16a-259fed575aeb",
        "colab": {
          "base_uri": "https://localhost:8080/"
        }
      },
      "execution_count": 31,
      "outputs": [
        {
          "output_type": "stream",
          "name": "stdout",
          "text": [
            "the car is a Honda CRV\n",
            "the milage is 20 miles\n"
          ]
        }
      ]
    },
    {
      "cell_type": "code",
      "source": [
        "class Cake:\n",
        "\n",
        "    def __init__(self, kind, price, slices):\n",
        "        self.kind = kind\n",
        "        self.price = price\n",
        "        self.slices = slices\n",
        "        self.slices_remaining = slices\n",
        "\n",
        "\n",
        "    def describe(self):\n",
        "        print(f\"the {self.kind} costs {self.price} and is divided into {self.slices} slices.\")\n",
        "\n",
        "    def sell(self, count):\n",
        "      if count <= 0:\n",
        "        return \"Cannot sell zero or egative slices!\"\n",
        "      elif count > self.slices_remaining:\n",
        "        return f\"cannot sell more slices than we have {self.slices_remaining}!\"\n",
        "\n",
        "      else:\n",
        "        self.slices_remaining -= count\n",
        "        return f\"This cake has {self.slices_remaining} slices remaining.\"\n",
        "\n",
        "\n",
        "\n",
        "spice_cake = Cake(\"spice\", 18, 8)\n",
        "chocolate_cake = Cake(\"chocolate\", 24, 6)\n"
      ],
      "metadata": {
        "id": "evh9wHKo6VAm"
      },
      "execution_count": 54,
      "outputs": []
    },
    {
      "cell_type": "code",
      "source": [
        "result1 = [spice_cake.describe(), isinstance(spice_cake, Cake)]\n",
        "result2 = [chocolate_cake.describe(), isinstance(chocolate_cake, Cake)]"
      ],
      "metadata": {
        "id": "NfzHij3D6Xpm",
        "outputId": "d224da41-bf22-4b94-8f10-0a459b524f5b",
        "colab": {
          "base_uri": "https://localhost:8080/"
        }
      },
      "execution_count": 35,
      "outputs": [
        {
          "output_type": "stream",
          "name": "stdout",
          "text": [
            "the spice costs 18 and is divided into 8 slices.\n",
            "the chocolate costs 24 and is divided into 6 slices.\n"
          ]
        }
      ]
    },
    {
      "cell_type": "code",
      "source": [
        "result1 = spice_cake.sell(5)\n",
        "result2 = spice_cake.sell(4)\n",
        "result3 = chocolate_cake.sell(-1)\n",
        "result4 = chocolate_cake.sell(0)\n",
        "print(result1)\n",
        "print(result2)\n",
        "print(result3)\n",
        "print(result4)"
      ],
      "metadata": {
        "id": "LlDPj2djAUiS",
        "outputId": "00baa973-6ca8-4e1e-a654-c0377275bdc9",
        "colab": {
          "base_uri": "https://localhost:8080/"
        }
      },
      "execution_count": 51,
      "outputs": [
        {
          "output_type": "stream",
          "name": "stdout",
          "text": [
            "cannot sell more slices than we have 3!\n",
            "cannot sell more slices than we have 3!\n",
            "Cannot sell zero or egative slices!\n",
            "Cannot sell zero or egative slices!\n"
          ]
        }
      ]
    },
    {
      "cell_type": "code",
      "source": [
        "spice_cake.sell(5)"
      ],
      "metadata": {
        "id": "V8T6iN9YCD-k",
        "outputId": "ec7c5601-f8fb-4d01-e4f9-8449918b1754",
        "colab": {
          "base_uri": "https://localhost:8080/",
          "height": 35
        }
      },
      "execution_count": 55,
      "outputs": [
        {
          "output_type": "execute_result",
          "data": {
            "text/plain": [
              "'This cake has 3 slices remaining.'"
            ],
            "application/vnd.google.colaboratory.intrinsic+json": {
              "type": "string"
            }
          },
          "metadata": {},
          "execution_count": 55
        }
      ]
    },
    {
      "cell_type": "markdown",
      "source": [
        "A **superclass** in object-oriented programming is a class that is inherited by other classes.\n",
        "\n",
        "**Inheritance** is a fundamental concept in object-oriented programming where a class (called a subclass) inherits attributes and methods from another class (called a superclass)."
      ],
      "metadata": {
        "id": "NW5Qzi47Et-1"
      }
    },
    {
      "cell_type": "code",
      "source": [
        "class Item:\n",
        "  def __init__(self, item_type, price):\n",
        "\n",
        "    self.item_type = item_type\n",
        "    self.price = price\n",
        "\n",
        "\n",
        "class Cake(Item): # it means that Cake is inheriting from the class Item.\n",
        "  def __init__(self, flavor, price, slices):\n",
        "    super().__init__(\"cake\", price) # Call the parent class constructor (Item)\n",
        "\n",
        "    self.flavor = flavor\n",
        "    self.slices = slices\n",
        "\n"
      ],
      "metadata": {
        "id": "4waoyBuXEtpW"
      },
      "execution_count": 57,
      "outputs": []
    },
    {
      "cell_type": "code",
      "source": [
        "cake1 = Cake(\"spice\", 18,8)\n",
        "cake1.price"
      ],
      "metadata": {
        "id": "CFCtAVEaH_Tk",
        "outputId": "05846cbb-0839-42f0-df35-9992f894ca98",
        "colab": {
          "base_uri": "https://localhost:8080/"
        }
      },
      "execution_count": 61,
      "outputs": [
        {
          "output_type": "execute_result",
          "data": {
            "text/plain": [
              "18"
            ]
          },
          "metadata": {},
          "execution_count": 61
        }
      ]
    },
    {
      "cell_type": "code",
      "source": [
        "class Item:\n",
        "  def __init__(self, item_type, price):\n",
        "\n",
        "    self.item_type = item_type\n",
        "    self._price = price\n",
        "\n",
        "  @property\n",
        "  def price(self):\n",
        "    return self._price\n",
        "\n",
        "\n",
        "class Cake(Item): # it means that Cake is inheriting from the class Item.\n",
        "  def __init__(self, flavor, price, slices):\n",
        "    super().__init__(\"cake\", price) # Call the parent class constructor (Item)\n",
        "\n",
        "    self.flavor = flavor\n",
        "    self.slices = slices"
      ],
      "metadata": {
        "id": "5RSk1VgHJPC9"
      },
      "execution_count": 65,
      "outputs": []
    },
    {
      "cell_type": "code",
      "source": [
        "cake1 = Cake(\"spice\", 18,8)\n",
        "result = False\n",
        "\n",
        "try:\n",
        "\n",
        "  cake1.price = 17\n",
        "\n",
        "except AttributeError:\n",
        "\n",
        "  result = True\n",
        "\n",
        "result"
      ],
      "metadata": {
        "id": "7amuttRuJtK2",
        "outputId": "1c70bded-5c26-4990-abdc-b67b71968f7f",
        "colab": {
          "base_uri": "https://localhost:8080/"
        }
      },
      "execution_count": 68,
      "outputs": [
        {
          "output_type": "execute_result",
          "data": {
            "text/plain": [
              "True"
            ]
          },
          "metadata": {},
          "execution_count": 68
        }
      ]
    },
    {
      "cell_type": "code",
      "source": [
        "class Item:\n",
        "    def __init__(self, item_type, price):\n",
        "        self.item_type = item_type\n",
        "        self._price = price\n",
        "\n",
        "    @property\n",
        "    def price(self):\n",
        "        return self._price\n",
        "\n",
        "class Cake(Item):\n",
        "    def __init__(self, flavor, price, slices):\n",
        "        super().__init__(\"cake\", price)\n",
        "        self.flavor = flavor\n",
        "        self.slices = slices\n",
        "        self.slices_remaining = slices\n",
        "\n",
        "    def sell(self, count):\n",
        "        if(count <= 0):\n",
        "            return \"Cannot sell zero or negative slices!\"\n",
        "        elif(self.slices_remaining - count < 0):\n",
        "            return f\"Cannot sell more slices than we have ({self.slices_remaining})!\"\n",
        "        else:\n",
        "            self.slices_remaining -= count\n",
        "            return f\"This cake has {self.slices_remaining} slices remaining.\"\n",
        "\n",
        "    def __eq__(self, other):\n",
        "      return self.slices_remaining * (self.price / self.slices) == other.slices_remaining * (other.price / other.slices)\n",
        "\n",
        "    def __gt__(self, other):\n",
        "      return self.slices_remaining * (self.price / self.slices) > other.slices_remaining * (other.price / other.slices)\n",
        "    def __lt__(self, other):\n",
        "      return self.slices_remaining * (self.price / self.slices) < other.slices_remaining * (other.price / other.slices)\n",
        "\n",
        "\"\"\" methods like __eq__, __gt__, and __lt__ are special methods (also called magic methods or dunder methods) that\n",
        "allow you to customize the behavior of operators, like ==, <, and > when used with objects of a class.\"\"\"\n",
        "\n",
        "\n",
        "spice_cake = Cake(\"spice\", 18, 8)\n",
        "chocolate_cake = Cake(\"chocolate\", 24, 6)\n",
        "\n",
        "spice_cake.sell(3)\n",
        "chocolate_cake.sell(4)\n",
        "\n"
      ],
      "metadata": {
        "id": "xhG0wr0QO4gV",
        "outputId": "20238b75-215b-4a1e-be18-06d54e0eca70",
        "colab": {
          "base_uri": "https://localhost:8080/",
          "height": 35
        }
      },
      "execution_count": 75,
      "outputs": [
        {
          "output_type": "execute_result",
          "data": {
            "text/plain": [
              "'This cake has 2 slices remaining.'"
            ],
            "application/vnd.google.colaboratory.intrinsic+json": {
              "type": "string"
            }
          },
          "metadata": {},
          "execution_count": 75
        }
      ]
    },
    {
      "cell_type": "code",
      "source": [
        "cake1 = Cake(\"chocolate\", 24, 6)\n",
        "cake2 = Cake(\"vanilla\", 18, 8)\n",
        "\n",
        "print(cake1 == cake2)  # Output: True (both have the same price per slice)\n",
        "print(cake1 > cake2)   # Output: False (cake1 has lower price per slice)\n"
      ],
      "metadata": {
        "id": "1-jZBpx2Pmw8",
        "outputId": "579538f7-89d9-4184-96e2-67b5c949e07e",
        "colab": {
          "base_uri": "https://localhost:8080/"
        }
      },
      "execution_count": 76,
      "outputs": [
        {
          "output_type": "stream",
          "name": "stdout",
          "text": [
            "False\n",
            "True\n"
          ]
        }
      ]
    },
    {
      "cell_type": "code",
      "source": [
        "result1"
      ],
      "metadata": {
        "id": "t1cOco7fPv9k",
        "outputId": "fa15bff6-f784-4728-c578-a9d2fbe051a4",
        "colab": {
          "base_uri": "https://localhost:8080/"
        }
      },
      "execution_count": 73,
      "outputs": [
        {
          "output_type": "execute_result",
          "data": {
            "text/plain": [
              "False"
            ]
          },
          "metadata": {},
          "execution_count": 73
        }
      ]
    },
    {
      "cell_type": "markdown",
      "source": [
        "# Stack\n",
        "\n",
        "\n",
        "A stack is a linear data structure that follows the Last In, First Out (LIFO) principle.\n",
        "\n",
        "Key operations for a stack include:\n",
        "\n",
        "* Push: Adding an item to the top of the stack.\n",
        "* Pop: Removing the top item from the stack.\n",
        "* Peek: Viewing the top item without removing it.\n",
        "\n",
        "\n",
        "\n",
        "\n",
        "> **a stack is a concept, while a list is a specific Python data type. What distinguishes a stack from a generic list is how you use it.**\n",
        "\n",
        "It’s a stack if:\n",
        "\n",
        "* You only use `append()` to add and `pop()` to remove.\n",
        "* You follow the LIFO principle.\n",
        "\n",
        "\n",
        "list.insert(pos, elmnt)\n",
        "\n",
        "list.append(elmnt)\n",
        "\n",
        "list.pop(pos)"
      ],
      "metadata": {
        "id": "X1xTWEyXrEok"
      }
    },
    {
      "cell_type": "code",
      "execution_count": null,
      "metadata": {
        "id": "NaYhQt20rAjU"
      },
      "outputs": [],
      "source": [
        "def push(stack, item):\n",
        "  stack.insert(len(stack),item) # Inefficient, O(n) time complexity (shifts all elements).\n",
        "\n",
        "  return stack\n",
        "\n"
      ]
    },
    {
      "cell_type": "code",
      "source": [
        "push([10, 20, 30], 15)"
      ],
      "metadata": {
        "colab": {
          "base_uri": "https://localhost:8080/"
        },
        "id": "4SUlT7pkuWu1",
        "outputId": "c3df44a6-92bc-49e9-fd36-6afb2b766c8e"
      },
      "execution_count": null,
      "outputs": [
        {
          "output_type": "execute_result",
          "data": {
            "text/plain": [
              "[10, 20, 30, 15]"
            ]
          },
          "metadata": {},
          "execution_count": 6
        }
      ]
    },
    {
      "cell_type": "code",
      "source": [
        "push([15, 10, 20, 30], 12)"
      ],
      "metadata": {
        "colab": {
          "base_uri": "https://localhost:8080/"
        },
        "id": "j3ESoxc7ubF1",
        "outputId": "adb7134a-caef-47d9-e0c9-df6a8bf2c46f"
      },
      "execution_count": null,
      "outputs": [
        {
          "output_type": "execute_result",
          "data": {
            "text/plain": [
              "[15, 10, 20, 30, 12]"
            ]
          },
          "metadata": {},
          "execution_count": 7
        }
      ]
    },
    {
      "cell_type": "code",
      "source": [
        "stack = [15, 10, 20, 30, 12]\n",
        "stack.append(28) # Efficient, O(1) time complexity.\n",
        "stack"
      ],
      "metadata": {
        "colab": {
          "base_uri": "https://localhost:8080/"
        },
        "id": "8LpSgQpZuh2V",
        "outputId": "1309d673-ac5d-4450-f867-7a8f822b0a0a"
      },
      "execution_count": null,
      "outputs": [
        {
          "output_type": "execute_result",
          "data": {
            "text/plain": [
              "[15, 10, 20, 30, 12, 28]"
            ]
          },
          "metadata": {},
          "execution_count": 14
        }
      ]
    },
    {
      "cell_type": "code",
      "source": [
        "stack.pop()\n",
        "stack"
      ],
      "metadata": {
        "colab": {
          "base_uri": "https://localhost:8080/"
        },
        "id": "MiFHgusvvZEm",
        "outputId": "db3f0caf-fbb2-410d-8046-278387c9cc02"
      },
      "execution_count": null,
      "outputs": [
        {
          "output_type": "execute_result",
          "data": {
            "text/plain": [
              "[15, 10, 20, 30, 12]"
            ]
          },
          "metadata": {},
          "execution_count": 15
        }
      ]
    },
    {
      "cell_type": "markdown",
      "source": [
        "**peek operation**"
      ],
      "metadata": {
        "id": "LMAIYKklwc0m"
      }
    },
    {
      "cell_type": "code",
      "source": [
        "stack[-1]"
      ],
      "metadata": {
        "colab": {
          "base_uri": "https://localhost:8080/"
        },
        "id": "_3rVi21yvrDN",
        "outputId": "c721e9d7-3bcf-43ba-ccc2-150515b057cb"
      },
      "execution_count": null,
      "outputs": [
        {
          "output_type": "execute_result",
          "data": {
            "text/plain": [
              "12"
            ]
          },
          "metadata": {},
          "execution_count": 16
        }
      ]
    }
  ]
}