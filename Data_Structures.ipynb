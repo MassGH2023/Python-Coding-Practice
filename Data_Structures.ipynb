{
  "nbformat": 4,
  "nbformat_minor": 0,
  "metadata": {
    "colab": {
      "provenance": [],
      "authorship_tag": "ABX9TyOyx85gSjVhRLU2tkvOLaT7",
      "include_colab_link": true
    },
    "kernelspec": {
      "name": "python3",
      "display_name": "Python 3"
    },
    "language_info": {
      "name": "python"
    }
  },
  "cells": [
    {
      "cell_type": "markdown",
      "metadata": {
        "id": "view-in-github",
        "colab_type": "text"
      },
      "source": [
        "<a href=\"https://colab.research.google.com/github/MassGH2023/Python-Coding-Practice/blob/main/Data_Structures.ipynb\" target=\"_parent\"><img src=\"https://colab.research.google.com/assets/colab-badge.svg\" alt=\"Open In Colab\"/></a>"
      ]
    },
    {
      "cell_type": "markdown",
      "source": [
        "# Array and array like structures (list, tuple)\n",
        "\n",
        "An array in Python is a collection of elements stored in a single variable, where each element is accessed by an index. It's like a row in Excel where you can store multiple values in one place.\n",
        "\n",
        "```\n",
        "from array import array\n",
        "\n",
        "# Create an array of integers\n",
        "numbers = array('i', [1, 2, 3, 4, 5])\n",
        "```\n",
        "\n"
      ],
      "metadata": {
        "id": "TcbnODuhn7Dn"
      }
    },
    {
      "cell_type": "code",
      "execution_count": 2,
      "metadata": {
        "id": "Z053XmfznyQ3"
      },
      "outputs": [],
      "source": [
        "a = [9,5,7,2,4,1,7,0,3,2]\n",
        "\n",
        "def linsrch(lst, item):\n",
        "# Time Complexity: Linear search has a time complexity of O(N), meaning the time it takes to search increases linearly with the size of the array.\n",
        "  for e in lst:\n",
        "    if e == item:\n",
        "      return True\n",
        "\n",
        "  return False"
      ]
    },
    {
      "cell_type": "code",
      "source": [
        "linsrch(a, 5)"
      ],
      "metadata": {
        "colab": {
          "base_uri": "https://localhost:8080/"
        },
        "id": "3EkBEPBfpfAD",
        "outputId": "2294f810-7577-405a-eacf-84fcd9c32b32"
      },
      "execution_count": 3,
      "outputs": [
        {
          "output_type": "execute_result",
          "data": {
            "text/plain": [
              "True"
            ]
          },
          "metadata": {},
          "execution_count": 3
        }
      ]
    },
    {
      "cell_type": "code",
      "source": [
        "linsrch(a, 12)"
      ],
      "metadata": {
        "colab": {
          "base_uri": "https://localhost:8080/"
        },
        "id": "cgLkPkHopjKL",
        "outputId": "cfc99ec6-6f0d-4a82-c666-16c89b3bbaea"
      },
      "execution_count": 4,
      "outputs": [
        {
          "output_type": "execute_result",
          "data": {
            "text/plain": [
              "False"
            ]
          },
          "metadata": {},
          "execution_count": 4
        }
      ]
    },
    {
      "cell_type": "code",
      "source": [
        "a.index(5) # these also use linear search behind the scenes."
      ],
      "metadata": {
        "id": "WgVgdVSIpmtD",
        "outputId": "1b2c10f4-f64f-4bad-8123-d285fbdd49f7",
        "colab": {
          "base_uri": "https://localhost:8080/"
        }
      },
      "execution_count": 5,
      "outputs": [
        {
          "output_type": "execute_result",
          "data": {
            "text/plain": [
              "1"
            ]
          },
          "metadata": {},
          "execution_count": 5
        }
      ]
    },
    {
      "cell_type": "code",
      "source": [
        "sorted(a, reverse= 1)"
      ],
      "metadata": {
        "id": "-Py1P4z-qGFj",
        "outputId": "56a1179f-142d-49ff-d4ca-1811184cd58f",
        "colab": {
          "base_uri": "https://localhost:8080/"
        }
      },
      "execution_count": 7,
      "outputs": [
        {
          "output_type": "execute_result",
          "data": {
            "text/plain": [
              "[9, 7, 7, 5, 4, 3, 2, 2, 1, 0]"
            ]
          },
          "metadata": {},
          "execution_count": 7
        }
      ]
    },
    {
      "cell_type": "code",
      "source": [
        "sl = [(\"Alice\", 95), (\"Bob\", 88), (\"Charlie\", 92), (\"Diana\", 78)]\n",
        "sorted(sl)\n"
      ],
      "metadata": {
        "id": "JitgLn_BqnAG",
        "outputId": "5b320b82-67a6-42b9-c9fd-e5427025efcb",
        "colab": {
          "base_uri": "https://localhost:8080/"
        }
      },
      "execution_count": 16,
      "outputs": [
        {
          "output_type": "execute_result",
          "data": {
            "text/plain": [
              "[('Alice', 95), ('Bob', 88), ('Charlie', 92), ('Diana', 78)]"
            ]
          },
          "metadata": {},
          "execution_count": 16
        }
      ]
    },
    {
      "cell_type": "code",
      "source": [
        "sorted(sl, key= lambda x:x[1], reverse= 1)"
      ],
      "metadata": {
        "id": "SPAk8f0_rdQK",
        "outputId": "95cbc555-81b2-4d12-8204-4446a9260c04",
        "colab": {
          "base_uri": "https://localhost:8080/"
        }
      },
      "execution_count": 17,
      "outputs": [
        {
          "output_type": "execute_result",
          "data": {
            "text/plain": [
              "[('Alice', 95), ('Charlie', 92), ('Bob', 88), ('Diana', 78)]"
            ]
          },
          "metadata": {},
          "execution_count": 17
        }
      ]
    },
    {
      "cell_type": "code",
      "source": [
        "st = ((\"Alice\", 95), (\"Bob\", 88), (\"Charlie\", 92), (\"Diana\", 78))\n",
        "sorted(st)"
      ],
      "metadata": {
        "id": "xUiJxjOVrOoi",
        "outputId": "55404a37-332f-4b56-8f21-748e9be3cf4d",
        "colab": {
          "base_uri": "https://localhost:8080/"
        }
      },
      "execution_count": 19,
      "outputs": [
        {
          "output_type": "execute_result",
          "data": {
            "text/plain": [
              "[('Alice', 95), ('Bob', 88), ('Charlie', 92), ('Diana', 78)]"
            ]
          },
          "metadata": {},
          "execution_count": 19
        }
      ]
    },
    {
      "cell_type": "markdown",
      "source": [
        "**challenge**"
      ],
      "metadata": {
        "id": "21wi-tvGr1h1"
      }
    },
    {
      "cell_type": "code",
      "source": [
        "def second(lst): # This method has a time complexity of O(n) as it only requires a single pass through the list.\n",
        "\n",
        "  if len(lst) <2:\n",
        "    return None\n",
        "  smallest = float('inf')\n",
        "  sec_smallest = float('inf')\n",
        "  for e in lst:\n",
        "    if e < smallest:\n",
        "      sec_smallest = smallest\n",
        "      smallest = e\n",
        "\n",
        "    elif e < sec_smallest:\n",
        "      sec_smallest = e\n",
        "\n",
        "\n",
        "  return sec_smallest\n"
      ],
      "metadata": {
        "id": "yYCpqns2rutj"
      },
      "execution_count": 24,
      "outputs": []
    },
    {
      "cell_type": "code",
      "source": [
        "second([10,7,8])"
      ],
      "metadata": {
        "id": "0nryhzGouqnC",
        "outputId": "22ff4d7b-5c46-4530-9884-48362ff05f4d",
        "colab": {
          "base_uri": "https://localhost:8080/"
        }
      },
      "execution_count": 25,
      "outputs": [
        {
          "output_type": "execute_result",
          "data": {
            "text/plain": [
              "8"
            ]
          },
          "metadata": {},
          "execution_count": 25
        }
      ]
    },
    {
      "cell_type": "markdown",
      "source": [
        "# Dictionary\n",
        "\n",
        "\n",
        "* Key-Value Pairs: A dictionary stores data in key-value pairs, where each key\n",
        "acts as an identifier for its corresponding value.\n",
        "* Unique Keys: Keys in a dictionary are unique, allowing for efficient retrieval of values without searching through the entire structure."
      ],
      "metadata": {
        "id": "IqY18S7b5DDI"
      }
    },
    {
      "cell_type": "code",
      "source": [
        "mt_dict = {}\n",
        "\n",
        "students = {\n",
        "    \"Alice\": 95,\n",
        "    \"Bob\": 88,\n",
        "    \"Charlie\": 92,\n",
        "    \"Diana\": 78\n",
        "}"
      ],
      "metadata": {
        "id": "FfHzAKfuuvKi"
      },
      "execution_count": 39,
      "outputs": []
    },
    {
      "cell_type": "code",
      "source": [
        "students[\"Bob\"]"
      ],
      "metadata": {
        "id": "X9jDhY1G5dLN",
        "outputId": "61f12841-fc52-42f0-8a10-33a5ca0adfb0",
        "colab": {
          "base_uri": "https://localhost:8080/"
        }
      },
      "execution_count": 27,
      "outputs": [
        {
          "output_type": "execute_result",
          "data": {
            "text/plain": [
              "88"
            ]
          },
          "metadata": {},
          "execution_count": 27
        }
      ]
    },
    {
      "cell_type": "code",
      "source": [
        "students.keys, students.values, students.items"
      ],
      "metadata": {
        "id": "QBp_mmwy5h9u",
        "outputId": "27aebb9c-5619-459b-a063-e89a86306688",
        "colab": {
          "base_uri": "https://localhost:8080/"
        }
      },
      "execution_count": 30,
      "outputs": [
        {
          "output_type": "execute_result",
          "data": {
            "text/plain": [
              "(<function dict.keys>, <function dict.values>, <function dict.items>)"
            ]
          },
          "metadata": {},
          "execution_count": 30
        }
      ]
    },
    {
      "cell_type": "code",
      "source": [
        "students = {}\n",
        "# Function to add a new student\n",
        "def add_student(name, age, grade):\n",
        "    students[name] = {\"age\": age, \"grade\": grade}\n",
        "    print(f\"Student {name} added successfully!\")\n",
        "\n",
        "add_student(\"Alice\", 16, 95)\n",
        "add_student(\"Bob\", 17, 88)\n",
        "add_student(\"Charlie\", 16, 92)"
      ],
      "metadata": {
        "id": "fbrkD6Zl5pTu",
        "outputId": "844e21ec-b5f3-4518-f1b0-72da9b6ffec5",
        "colab": {
          "base_uri": "https://localhost:8080/"
        }
      },
      "execution_count": 33,
      "outputs": [
        {
          "output_type": "stream",
          "name": "stdout",
          "text": [
            "Student Alice added successfully!\n",
            "Student Bob added successfully!\n",
            "Student Charlie added successfully!\n"
          ]
        }
      ]
    },
    {
      "cell_type": "code",
      "source": [
        "students"
      ],
      "metadata": {
        "id": "GSPmeqWB7DHI",
        "outputId": "e5b6684a-74bd-4ae5-c4d0-b1b5f4ff4b6d",
        "colab": {
          "base_uri": "https://localhost:8080/"
        }
      },
      "execution_count": 34,
      "outputs": [
        {
          "output_type": "execute_result",
          "data": {
            "text/plain": [
              "{'Alice': {'age': 16, 'grade': 95},\n",
              " 'Bob': {'age': 17, 'grade': 88},\n",
              " 'Charlie': {'age': 16, 'grade': 92}}"
            ]
          },
          "metadata": {},
          "execution_count": 34
        }
      ]
    },
    {
      "cell_type": "code",
      "source": [
        "del students['Alice']"
      ],
      "metadata": {
        "id": "xS6Leq097QHN"
      },
      "execution_count": 35,
      "outputs": []
    },
    {
      "cell_type": "code",
      "source": [
        "students"
      ],
      "metadata": {
        "id": "lLI77-Ez7enN",
        "outputId": "2c3ebaee-f080-4eb0-91e6-f7a85e30c355",
        "colab": {
          "base_uri": "https://localhost:8080/"
        }
      },
      "execution_count": 36,
      "outputs": [
        {
          "output_type": "execute_result",
          "data": {
            "text/plain": [
              "{'Bob': {'age': 17, 'grade': 88}, 'Charlie': {'age': 16, 'grade': 92}}"
            ]
          },
          "metadata": {},
          "execution_count": 36
        }
      ]
    },
    {
      "cell_type": "code",
      "source": [
        "students.pop(\"dave\", \"NA\")"
      ],
      "metadata": {
        "id": "cFo1Tbph7fqN",
        "outputId": "54bc7a54-8d24-4cb2-9e31-7c7281c47f58",
        "colab": {
          "base_uri": "https://localhost:8080/",
          "height": 35
        }
      },
      "execution_count": 37,
      "outputs": [
        {
          "output_type": "execute_result",
          "data": {
            "text/plain": [
              "'NA'"
            ],
            "application/vnd.google.colaboratory.intrinsic+json": {
              "type": "string"
            }
          },
          "metadata": {},
          "execution_count": 37
        }
      ]
    },
    {
      "cell_type": "code",
      "source": [
        "students.pop(\"Bob\", \"NA\")"
      ],
      "metadata": {
        "id": "wACKNQzZ7xk-",
        "outputId": "8f92993c-a5ed-4efd-ed21-b9dcc2a533a9",
        "colab": {
          "base_uri": "https://localhost:8080/"
        }
      },
      "execution_count": 40,
      "outputs": [
        {
          "output_type": "execute_result",
          "data": {
            "text/plain": [
              "88"
            ]
          },
          "metadata": {},
          "execution_count": 40
        }
      ]
    },
    {
      "cell_type": "code",
      "source": [
        "up = {\n",
        "    \"theme\": \"dark\",  # User has selected a dark theme\n",
        "    \"language\": \"en\",  # User prefers English\n",
        "    \"notifications\": None,  # User hasn't set notification preferences\n",
        "    \"font_size\": 14,  # User prefers a font size of 14\n",
        "    \"timezone\": None,  # User hasn't specified a timezone\n",
        "    \"show_images\": True  # User wants to see images\n",
        "}\n",
        "up.items()"
      ],
      "metadata": {
        "id": "gmVKqkBz8m-L",
        "outputId": "d01c370e-2836-4374-b737-704593c2dc8e",
        "colab": {
          "base_uri": "https://localhost:8080/"
        }
      },
      "execution_count": 45,
      "outputs": [
        {
          "output_type": "execute_result",
          "data": {
            "text/plain": [
              "dict_items([('theme', 'dark'), ('language', 'en'), ('notifications', None), ('font_size', 14), ('timezone', None), ('show_images', True)])"
            ]
          },
          "metadata": {},
          "execution_count": 45
        }
      ]
    },
    {
      "cell_type": "code",
      "source": [
        "out = {}\n",
        "for k,v in up.items():\n",
        "  if v != None:\n",
        "    out [k] = v\n"
      ],
      "metadata": {
        "id": "1s5_SbdV837E"
      },
      "execution_count": 50,
      "outputs": []
    },
    {
      "cell_type": "code",
      "source": [
        "out"
      ],
      "metadata": {
        "id": "nbPmGbXC9Bnk",
        "outputId": "3cd0be2a-bcb0-44c6-d0b6-33942c1b107c",
        "colab": {
          "base_uri": "https://localhost:8080/"
        }
      },
      "execution_count": 51,
      "outputs": [
        {
          "output_type": "execute_result",
          "data": {
            "text/plain": [
              "{'theme': 'dark', 'language': 'en', 'font_size': 14, 'show_images': True}"
            ]
          },
          "metadata": {},
          "execution_count": 51
        }
      ]
    },
    {
      "cell_type": "code",
      "source": [
        "# Dictionary Comprehensions\n",
        "{k:v for k, v in up.items() if v != None}"
      ],
      "metadata": {
        "id": "lBjMJan-9RKG",
        "outputId": "8736b3e2-92a9-4e46-b75b-cb0e1f10b1c1",
        "colab": {
          "base_uri": "https://localhost:8080/"
        }
      },
      "execution_count": 52,
      "outputs": [
        {
          "output_type": "execute_result",
          "data": {
            "text/plain": [
              "{'theme': 'dark', 'language': 'en', 'font_size': 14, 'show_images': True}"
            ]
          },
          "metadata": {},
          "execution_count": 52
        }
      ]
    },
    {
      "cell_type": "markdown",
      "source": [
        "# Set\n",
        "\n",
        "\"What is a set?\":\n",
        "\n",
        "* Unique Items: A set is a collection of unique items, meaning no duplicates are allowed.\n",
        "* Order Irrelevance: The order of items in a set does not matter, and sets do not support indexing.\n",
        "* Membership Testing: Sets are optimized for checking if an item is a member, making them efficient for such operations.\n",
        "\n",
        "\n",
        "Operations on sets in Python\":\n",
        "\n",
        "1. Union: Combines the contents of two sets, creating a new set with all unique elements from both sets.\n",
        "2. Intersection: Identifies common elements between two sets, resulting in a new set with only those shared elements.\n",
        "3. Difference: Subtracts the elements of one set from another, producing a set with elements unique to the first set.\n",
        "4. Symmetric Difference: Finds elements that are unique to each set, excluding any shared elements, and creates a new set with these unique items.\n"
      ],
      "metadata": {
        "id": "WJLdQq_d-v2Z"
      }
    },
    {
      "cell_type": "code",
      "source": [
        "my_list = [1, 2, 3, 4, 5]\n",
        "my_set = set(my_list)\n",
        "my_set"
      ],
      "metadata": {
        "id": "lVi5OR7n-Rzc",
        "outputId": "e7c657a1-3866-4dc9-a9b6-e638d3573701",
        "colab": {
          "base_uri": "https://localhost:8080/"
        }
      },
      "execution_count": 54,
      "outputs": [
        {
          "output_type": "execute_result",
          "data": {
            "text/plain": [
              "{1, 2, 3, 4, 5}"
            ]
          },
          "metadata": {},
          "execution_count": 54
        }
      ]
    },
    {
      "cell_type": "code",
      "source": [
        "my_string = \"hello\"\n",
        "my_set = set(my_string)\n",
        "my_set"
      ],
      "metadata": {
        "id": "izrxA0Q6_4Yh",
        "outputId": "47787533-1446-4a45-b56b-227400958501",
        "colab": {
          "base_uri": "https://localhost:8080/"
        }
      },
      "execution_count": 55,
      "outputs": [
        {
          "output_type": "execute_result",
          "data": {
            "text/plain": [
              "{'e', 'h', 'l', 'o'}"
            ]
          },
          "metadata": {},
          "execution_count": 55
        }
      ]
    },
    {
      "cell_type": "code",
      "source": [
        "set1 = {'a','b','c','d','e','f'}\n",
        "set2 = {'d','e','f','g','h','i'}\n",
        "set1 | set2 # set1.union(set2)"
      ],
      "metadata": {
        "id": "B6pqvhD4ADY2",
        "outputId": "d2dc8b60-34dc-48ee-b9f0-1ddad01180e1",
        "colab": {
          "base_uri": "https://localhost:8080/"
        }
      },
      "execution_count": 68,
      "outputs": [
        {
          "output_type": "execute_result",
          "data": {
            "text/plain": [
              "{'a', 'b', 'c', 'd', 'e', 'f', 'g', 'h', 'i'}"
            ]
          },
          "metadata": {},
          "execution_count": 68
        }
      ]
    },
    {
      "cell_type": "code",
      "source": [
        "set1 & set2 # set1.intersection(set2)"
      ],
      "metadata": {
        "id": "bYLLpXpWBgQs",
        "outputId": "38bc10d7-c28f-4672-ac50-c97e77f818d0",
        "colab": {
          "base_uri": "https://localhost:8080/"
        }
      },
      "execution_count": 66,
      "outputs": [
        {
          "output_type": "execute_result",
          "data": {
            "text/plain": [
              "{'d', 'e', 'f'}"
            ]
          },
          "metadata": {},
          "execution_count": 66
        }
      ]
    },
    {
      "cell_type": "code",
      "source": [
        "set1 - set2 # difference_set = set1.difference(set2)"
      ],
      "metadata": {
        "id": "eD1NJw4gBr-F",
        "outputId": "da04708b-dcab-43f5-bfe6-1a7115ffd9e7",
        "colab": {
          "base_uri": "https://localhost:8080/"
        }
      },
      "execution_count": 69,
      "outputs": [
        {
          "output_type": "execute_result",
          "data": {
            "text/plain": [
              "{'a', 'b', 'c'}"
            ]
          },
          "metadata": {},
          "execution_count": 69
        }
      ]
    },
    {
      "cell_type": "code",
      "source": [
        "set1 ^ set2  # symmetric_diff_set = set1.symmetric_difference(set2)"
      ],
      "metadata": {
        "id": "eavtyPPvCBvp",
        "outputId": "7370d957-6dc7-423a-b89e-9c17a9da3197",
        "colab": {
          "base_uri": "https://localhost:8080/"
        }
      },
      "execution_count": 71,
      "outputs": [
        {
          "output_type": "execute_result",
          "data": {
            "text/plain": [
              "{'a', 'b', 'c', 'g', 'h', 'i'}"
            ]
          },
          "metadata": {},
          "execution_count": 71
        }
      ]
    },
    {
      "cell_type": "code",
      "source": [
        "set3 = set1 ^ set2\n",
        "set3.add('hello')\n",
        "set3"
      ],
      "metadata": {
        "id": "PW_8b8aOCIDU",
        "outputId": "62463302-cbe1-4c4e-9e60-3f60da83fe8e",
        "colab": {
          "base_uri": "https://localhost:8080/"
        }
      },
      "execution_count": 75,
      "outputs": [
        {
          "output_type": "execute_result",
          "data": {
            "text/plain": [
              "{'a', 'b', 'c', 'g', 'h', 'hello', 'i'}"
            ]
          },
          "metadata": {},
          "execution_count": 75
        }
      ]
    },
    {
      "cell_type": "code",
      "source": [
        "def has_unique_char(data): # The function has a linear time complexity of O(N), as converting the string to a set takes O(N) time.\n",
        "  return len(set(data)) == len(data)"
      ],
      "metadata": {
        "id": "IvnDF22cDJ8k"
      },
      "execution_count": 76,
      "outputs": []
    },
    {
      "cell_type": "code",
      "source": [
        "has_unique_char('hello')"
      ],
      "metadata": {
        "id": "0Wwt8H5SDlDd",
        "outputId": "afcedf2c-86d4-46a3-eaac-5dee404ac337",
        "colab": {
          "base_uri": "https://localhost:8080/"
        }
      },
      "execution_count": 77,
      "outputs": [
        {
          "output_type": "execute_result",
          "data": {
            "text/plain": [
              "False"
            ]
          },
          "metadata": {},
          "execution_count": 77
        }
      ]
    },
    {
      "cell_type": "code",
      "source": [
        "has_unique_char('sample')"
      ],
      "metadata": {
        "id": "xmn1G1RQDngE",
        "outputId": "0e1f86a0-1ba5-4651-aebc-5a3f8c73183f",
        "colab": {
          "base_uri": "https://localhost:8080/"
        }
      },
      "execution_count": 80,
      "outputs": [
        {
          "output_type": "execute_result",
          "data": {
            "text/plain": [
              "True"
            ]
          },
          "metadata": {},
          "execution_count": 80
        }
      ]
    },
    {
      "cell_type": "markdown",
      "source": [
        "# Queue\n",
        "\n",
        "\"What is a queue?\":\n",
        "\n",
        "* FIFO Principle: Queues follow a First-In, First-Out (FIFO) policy, meaning the first element added is the first one removed.\n",
        "* Enqueue and Dequeue: Adding an item to the end of the queue is called \"enqueue,\" and removing an item from the front is called \"dequeue.\"\n",
        "* Peek Operation: You can peek at the first item in the queue without removing it, to see what will be dequeued next.\n",
        "\n",
        "\n",
        "Deque for Queues: A deque (double-ended queue) allows efficient insertion and deletion from both ends, making it ideal for queue operations.\n",
        "\n",
        "\n",
        "\n",
        "\n",
        "```\n",
        "from collections import deque\n",
        "\n",
        "# Create a queue using deque\n",
        "queue = deque()\n",
        "\n",
        "# Enqueue (add elements to the end)\n",
        "queue.append(10)\n",
        "queue.append(20)\n",
        "queue.append(30)\n",
        "\n",
        "# Dequeue (remove elements from the front)\n",
        "print(queue.popleft())  # Output: 10\n",
        "print(queue.popleft())  # Output: 20\n",
        "print(queue)            # Output: deque([30])\n",
        "\n",
        "# Peek (view the front element without removing it)\n",
        "print(queue[0])         # Output: 30\n",
        "```\n",
        "\n"
      ],
      "metadata": {
        "id": "dVx0s6e6ELFi"
      }
    },
    {
      "cell_type": "markdown",
      "source": [
        "![Untitled.jpg](data:image/jpeg;base64,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)"
      ],
      "metadata": {
        "id": "OEV3PGoRFo31"
      }
    },
    {
      "cell_type": "code",
      "source": [
        "from collections import deque\n",
        "\n",
        "queue = deque()\n",
        "queue.append(1)\n",
        "queue.append(2)\n",
        "queue.append(3)"
      ],
      "metadata": {
        "id": "M1VHKK02DtDb"
      },
      "execution_count": 81,
      "outputs": []
    },
    {
      "cell_type": "code",
      "source": [
        "queue"
      ],
      "metadata": {
        "id": "GImBiAfVF1om",
        "outputId": "107eb418-92b6-4b06-cb08-6e410eddb810",
        "colab": {
          "base_uri": "https://localhost:8080/"
        }
      },
      "execution_count": 82,
      "outputs": [
        {
          "output_type": "execute_result",
          "data": {
            "text/plain": [
              "deque([1, 2, 3])"
            ]
          },
          "metadata": {},
          "execution_count": 82
        }
      ]
    },
    {
      "cell_type": "code",
      "source": [
        "def  print_binary(n):\n",
        "\n",
        "  if n<=0:\n",
        "    return\n",
        "\n",
        "  q= deque()\n",
        "  q.append(1)\n",
        "\n",
        "  for i in range(n):\n",
        "    bin = q.popleft()\n",
        "    print(bin)\n",
        "    q.append(bin*10)\n",
        "    q.append(bin*10 + 1)\n",
        "\n",
        "\n",
        "print_binary(6)"
      ],
      "metadata": {
        "id": "chmLAt1kF28G",
        "outputId": "4e3b11db-af8d-44ab-ea16-53fecc9b0537",
        "colab": {
          "base_uri": "https://localhost:8080/"
        }
      },
      "execution_count": 121,
      "outputs": [
        {
          "output_type": "stream",
          "name": "stdout",
          "text": [
            "1\n",
            "10\n",
            "11\n",
            "100\n",
            "101\n",
            "110\n"
          ]
        }
      ]
    },
    {
      "cell_type": "markdown",
      "source": [
        "**Reverse the first k elements of a queue.**"
      ],
      "metadata": {
        "id": "8ASKfnQjNnE7"
      }
    },
    {
      "cell_type": "code",
      "source": [
        "def krev(q,k):\n",
        "\n",
        "  if k <= 0:\n",
        "    return q\n",
        "\n",
        "  q= deque(q)\n",
        "  temp = []\n",
        "  for i in range(k):\n",
        "    temp.append(q.popleft())\n",
        "\n",
        "  for item in temp:\n",
        "    q.appendleft(item)\n",
        "  return q\n"
      ],
      "metadata": {
        "id": "8wRHsj9VMeTw"
      },
      "execution_count": 130,
      "outputs": []
    },
    {
      "cell_type": "code",
      "source": [
        "krev(q= [1, 2, 3, 4, 5], k = 3)"
      ],
      "metadata": {
        "id": "cHSXSf24OOOh",
        "outputId": "db405049-a37b-4dde-cea5-a642abdaca68",
        "colab": {
          "base_uri": "https://localhost:8080/"
        }
      },
      "execution_count": 131,
      "outputs": [
        {
          "output_type": "execute_result",
          "data": {
            "text/plain": [
              "deque([3, 2, 1, 4, 5])"
            ]
          },
          "metadata": {},
          "execution_count": 131
        }
      ]
    },
    {
      "cell_type": "markdown",
      "source": [
        "# Stack (LIFO - Last In, First Out)\n",
        "\n",
        "\n",
        "\n",
        "*   When you need to process things in reverse order (like undo functionality or depth-first search in graphs).\n",
        "\n",
        "Push and Pop: Adding an item to the stack is called \"push,\" and removing an item is called \"pop.\" Both operations occur at the top of the stack.\n",
        "\n",
        "\n",
        "\n",
        "```\n",
        "from collections import deque\n",
        "\n",
        "# Create a stack using deque\n",
        "stack = deque()\n",
        "\n",
        "# Push elements\n",
        "stack.append(10)\n",
        "stack.append(20)\n",
        "stack.append(30)\n",
        "\n",
        "# Pop elements\n",
        "print(stack.pop())  # Output: 30\n",
        "print(stack.pop())  # Output: 20\n",
        "print(stack)        # Output: deque([10])\n",
        "\n",
        "# Peek\n",
        "print(stack[-1])  # Output: 10\n",
        "```\n",
        "\n"
      ],
      "metadata": {
        "id": "ib0Xmqg1Wm_Z"
      }
    },
    {
      "cell_type": "markdown",
      "source": [
        "![stack-operations.webp](data:image/webp;base64,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)"
      ],
      "metadata": {
        "id": "Ydb9lX1kWtLe"
      }
    },
    {
      "cell_type": "code",
      "source": [
        "card_stack = []\n",
        "\n",
        "card_stack.append(\"JH\")\n",
        "card_stack.append('2D')\n",
        "card_stack.append('10S')\n",
        "\n",
        "card_stack"
      ],
      "metadata": {
        "id": "iVa12ZJLOSux",
        "outputId": "c6761760-d9ea-46c4-b122-c0661bc699d0",
        "colab": {
          "base_uri": "https://localhost:8080/"
        }
      },
      "execution_count": 135,
      "outputs": [
        {
          "output_type": "execute_result",
          "data": {
            "text/plain": [
              "['JH', '2D', '10S']"
            ]
          },
          "metadata": {},
          "execution_count": 135
        }
      ]
    },
    {
      "cell_type": "code",
      "source": [
        "card_stack.pop()\n",
        "card_stack"
      ],
      "metadata": {
        "id": "pKCT5VjfYuk5",
        "outputId": "29a42d0c-d77b-4a74-c55d-c2b7dabd5b78",
        "colab": {
          "base_uri": "https://localhost:8080/"
        }
      },
      "execution_count": 136,
      "outputs": [
        {
          "output_type": "execute_result",
          "data": {
            "text/plain": [
              "['JH', '2D']"
            ]
          },
          "metadata": {},
          "execution_count": 136
        }
      ]
    },
    {
      "cell_type": "markdown",
      "source": [
        "**A stack is a concept in computer science.**\n",
        "\n",
        "**A list in Python is an ordered collection of elements that can store multiple data types.**"
      ],
      "metadata": {
        "id": "RBtL09vqaUW9"
      }
    },
    {
      "cell_type": "code",
      "source": [
        "hist_stack = deque()\n",
        "\n",
        "\n",
        "hist_stack.append(10)\n",
        "hist_stack.append(20)\n",
        "hist_stack.append(30)\n",
        "print(hist_stack)\n",
        "# Pop elements\n",
        "print(f\"we popped {hist_stack.pop()}\")\n",
        "print(f\"we popped {hist_stack.pop()}\")\n",
        "print(hist_stack)"
      ],
      "metadata": {
        "id": "YP1ytvOaY2S5",
        "outputId": "3def3026-c7e0-41a3-dc42-0ab1487092eb",
        "colab": {
          "base_uri": "https://localhost:8080/"
        }
      },
      "execution_count": 142,
      "outputs": [
        {
          "output_type": "stream",
          "name": "stdout",
          "text": [
            "deque([10, 20, 30])\n",
            "we popped 30\n",
            "we popped 20\n",
            "deque([10])\n"
          ]
        }
      ]
    },
    {
      "cell_type": "markdown",
      "source": [
        "**Matching parentheses**"
      ],
      "metadata": {
        "id": "eB6TCd2aiM4r"
      }
    },
    {
      "cell_type": "code",
      "source": [
        "def matching_parenthese(string):\n",
        "  stack = deque()\n",
        "  for element in string:\n",
        "    if element == \"(\":\n",
        "      stack.append(element)\n",
        "\n",
        "    if element == \")\":\n",
        "      if len(stack) != 0 and stack[-1] == \"(\":\n",
        "        stack.pop()\n",
        "      else:\n",
        "        return \"Not Matching1\"\n",
        "  if len(stack) ==0:\n",
        "    return \"Matching2\"\n",
        "  else:\n",
        "    return \"Not Matching3\"   # [\"(\", \"(\", \")\"]"
      ],
      "metadata": {
        "id": "as4NzF92iMpg"
      },
      "execution_count": 171,
      "outputs": []
    },
    {
      "cell_type": "code",
      "source": [
        "matching_parenthese(\"(hi)there\")"
      ],
      "metadata": {
        "id": "OycTZqmvZUKo",
        "outputId": "35405d8f-8cf7-45b6-d49d-71a5a93692ed",
        "colab": {
          "base_uri": "https://localhost:8080/",
          "height": 35
        }
      },
      "execution_count": 172,
      "outputs": [
        {
          "output_type": "execute_result",
          "data": {
            "text/plain": [
              "'Matching2'"
            ],
            "application/vnd.google.colaboratory.intrinsic+json": {
              "type": "string"
            }
          },
          "metadata": {},
          "execution_count": 172
        }
      ]
    },
    {
      "cell_type": "code",
      "source": [
        "matching_parenthese(\"(()\")"
      ],
      "metadata": {
        "id": "267vzqZPkQ7t",
        "outputId": "402bb20a-d044-4d75-8ba9-c97c9e2a4221",
        "colab": {
          "base_uri": "https://localhost:8080/",
          "height": 35
        }
      },
      "execution_count": 173,
      "outputs": [
        {
          "output_type": "execute_result",
          "data": {
            "text/plain": [
              "'Not Matching3'"
            ],
            "application/vnd.google.colaboratory.intrinsic+json": {
              "type": "string"
            }
          },
          "metadata": {},
          "execution_count": 173
        }
      ]
    },
    {
      "cell_type": "markdown",
      "source": [
        "**Validate Balanced Parentheses, Braces, and Brackets**"
      ],
      "metadata": {
        "id": "pyI_dyuSspgU"
      }
    },
    {
      "cell_type": "code",
      "source": [
        "def matching_bracket(string):\n",
        "  stack = deque()\n",
        "  matching_brackets = {')': '(', '}': '{', ']': '['}\n",
        "  for ch in string:\n",
        "    if ch in matching_brackets.values():\n",
        "      stack.append(ch)\n",
        "    elif ch in matching_brackets.keys():\n",
        "      if stack and stack[-1] == matching_brackets[ch]:\n",
        "        stack.pop()\n",
        "      else:\n",
        "        return \"not balanced1\"\n",
        "  if not stack:\n",
        "    return \"balanced2\"\n",
        "\n",
        "  else:\n",
        "    return \"not balanced3\""
      ],
      "metadata": {
        "id": "cO1D9KxQn2Dv"
      },
      "execution_count": 163,
      "outputs": []
    },
    {
      "cell_type": "code",
      "source": [
        "matching_bracket(\"{[(])}\")"
      ],
      "metadata": {
        "id": "7ctyqo9dofDj",
        "outputId": "b7a4cdaa-1418-4800-cadb-e40abe83892f",
        "colab": {
          "base_uri": "https://localhost:8080/",
          "height": 35
        }
      },
      "execution_count": 164,
      "outputs": [
        {
          "output_type": "execute_result",
          "data": {
            "text/plain": [
              "'not balanced1'"
            ],
            "application/vnd.google.colaboratory.intrinsic+json": {
              "type": "string"
            }
          },
          "metadata": {},
          "execution_count": 164
        }
      ]
    },
    {
      "cell_type": "code",
      "source": [
        "print(matching_bracket(\"hello\"))\n",
        "print(matching_bracket(\"hello[(\"))"
      ],
      "metadata": {
        "id": "ckPCV7oUojHk",
        "outputId": "863c42f8-93d7-41c4-f9f5-968aac37d590",
        "colab": {
          "base_uri": "https://localhost:8080/"
        }
      },
      "execution_count": 170,
      "outputs": [
        {
          "output_type": "stream",
          "name": "stdout",
          "text": [
            "balanced2\n",
            "not balanced3\n"
          ]
        }
      ]
    },
    {
      "cell_type": "markdown",
      "source": [
        "Given an array of integers, find the next greater element for each element in the array. The next greater element for an element x is the first greater element to its right. If no such element exists, return -1."
      ],
      "metadata": {
        "id": "FHpMduwXt3_A"
      }
    },
    {
      "cell_type": "code",
      "source": [],
      "metadata": {
        "id": "rE1-qopTtOUU"
      },
      "execution_count": null,
      "outputs": []
    }
  ]
}