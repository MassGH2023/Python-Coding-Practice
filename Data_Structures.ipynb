{
  "nbformat": 4,
  "nbformat_minor": 0,
  "metadata": {
    "colab": {
      "provenance": [],
      "authorship_tag": "ABX9TyNTlCu3Ha4B4N9AFID4QKu8",
      "include_colab_link": true
    },
    "kernelspec": {
      "name": "python3",
      "display_name": "Python 3"
    },
    "language_info": {
      "name": "python"
    }
  },
  "cells": [
    {
      "cell_type": "markdown",
      "metadata": {
        "id": "view-in-github",
        "colab_type": "text"
      },
      "source": [
        "<a href=\"https://colab.research.google.com/github/MassGH2023/Python-Coding-Practice/blob/main/Data_Structures.ipynb\" target=\"_parent\"><img src=\"https://colab.research.google.com/assets/colab-badge.svg\" alt=\"Open In Colab\"/></a>"
      ]
    },
    {
      "cell_type": "markdown",
      "source": [
        "# Array and array like structures (list, tuple)\n",
        "\n",
        "An array in Python is a collection of elements stored in a single variable, where each element is accessed by an index. It's like a row in Excel where you can store multiple values in one place.\n",
        "\n",
        "```\n",
        "from array import array\n",
        "\n",
        "# Create an array of integers\n",
        "numbers = array('i', [1, 2, 3, 4, 5])\n",
        "```\n",
        "\n"
      ],
      "metadata": {
        "id": "TcbnODuhn7Dn"
      }
    },
    {
      "cell_type": "code",
      "execution_count": null,
      "metadata": {
        "id": "Z053XmfznyQ3"
      },
      "outputs": [],
      "source": [
        "a = [9,5,7,2,4,1,7,0,3,2]\n",
        "\n",
        "def linsrch(lst, item):\n",
        "# Time Complexity: Linear search has a time complexity of O(N), meaning the time it takes to search increases linearly with the size of the array.\n",
        "  for e in lst:\n",
        "    if e == item:\n",
        "      return True\n",
        "\n",
        "  return False"
      ]
    },
    {
      "cell_type": "code",
      "source": [
        "linsrch(a, 5)"
      ],
      "metadata": {
        "colab": {
          "base_uri": "https://localhost:8080/"
        },
        "id": "3EkBEPBfpfAD",
        "outputId": "2294f810-7577-405a-eacf-84fcd9c32b32"
      },
      "execution_count": null,
      "outputs": [
        {
          "output_type": "execute_result",
          "data": {
            "text/plain": [
              "True"
            ]
          },
          "metadata": {},
          "execution_count": 3
        }
      ]
    },
    {
      "cell_type": "code",
      "source": [
        "linsrch(a, 12)"
      ],
      "metadata": {
        "colab": {
          "base_uri": "https://localhost:8080/"
        },
        "id": "cgLkPkHopjKL",
        "outputId": "cfc99ec6-6f0d-4a82-c666-16c89b3bbaea"
      },
      "execution_count": null,
      "outputs": [
        {
          "output_type": "execute_result",
          "data": {
            "text/plain": [
              "False"
            ]
          },
          "metadata": {},
          "execution_count": 4
        }
      ]
    },
    {
      "cell_type": "code",
      "source": [
        "a.index(5) # these also use linear search behind the scenes."
      ],
      "metadata": {
        "id": "WgVgdVSIpmtD",
        "colab": {
          "base_uri": "https://localhost:8080/"
        },
        "outputId": "1b2c10f4-f64f-4bad-8123-d285fbdd49f7"
      },
      "execution_count": null,
      "outputs": [
        {
          "output_type": "execute_result",
          "data": {
            "text/plain": [
              "1"
            ]
          },
          "metadata": {},
          "execution_count": 5
        }
      ]
    },
    {
      "cell_type": "code",
      "source": [
        "sorted(a, reverse= 1)"
      ],
      "metadata": {
        "colab": {
          "base_uri": "https://localhost:8080/"
        },
        "id": "-Py1P4z-qGFj",
        "outputId": "56a1179f-142d-49ff-d4ca-1811184cd58f"
      },
      "execution_count": null,
      "outputs": [
        {
          "output_type": "execute_result",
          "data": {
            "text/plain": [
              "[9, 7, 7, 5, 4, 3, 2, 2, 1, 0]"
            ]
          },
          "metadata": {},
          "execution_count": 7
        }
      ]
    },
    {
      "cell_type": "code",
      "source": [
        "sl = [(\"Alice\", 95), (\"Bob\", 88), (\"Charlie\", 92), (\"Diana\", 78)]\n",
        "sorted(sl)\n"
      ],
      "metadata": {
        "colab": {
          "base_uri": "https://localhost:8080/"
        },
        "id": "JitgLn_BqnAG",
        "outputId": "5b320b82-67a6-42b9-c9fd-e5427025efcb"
      },
      "execution_count": null,
      "outputs": [
        {
          "output_type": "execute_result",
          "data": {
            "text/plain": [
              "[('Alice', 95), ('Bob', 88), ('Charlie', 92), ('Diana', 78)]"
            ]
          },
          "metadata": {},
          "execution_count": 16
        }
      ]
    },
    {
      "cell_type": "code",
      "source": [
        "sorted(sl, key= lambda x:x[1], reverse= 1)"
      ],
      "metadata": {
        "colab": {
          "base_uri": "https://localhost:8080/"
        },
        "id": "SPAk8f0_rdQK",
        "outputId": "95cbc555-81b2-4d12-8204-4446a9260c04"
      },
      "execution_count": null,
      "outputs": [
        {
          "output_type": "execute_result",
          "data": {
            "text/plain": [
              "[('Alice', 95), ('Charlie', 92), ('Bob', 88), ('Diana', 78)]"
            ]
          },
          "metadata": {},
          "execution_count": 17
        }
      ]
    },
    {
      "cell_type": "code",
      "source": [
        "st = ((\"Alice\", 95), (\"Bob\", 88), (\"Charlie\", 92), (\"Diana\", 78))\n",
        "sorted(st)"
      ],
      "metadata": {
        "colab": {
          "base_uri": "https://localhost:8080/"
        },
        "id": "xUiJxjOVrOoi",
        "outputId": "55404a37-332f-4b56-8f21-748e9be3cf4d"
      },
      "execution_count": null,
      "outputs": [
        {
          "output_type": "execute_result",
          "data": {
            "text/plain": [
              "[('Alice', 95), ('Bob', 88), ('Charlie', 92), ('Diana', 78)]"
            ]
          },
          "metadata": {},
          "execution_count": 19
        }
      ]
    },
    {
      "cell_type": "markdown",
      "source": [
        "**challenge**"
      ],
      "metadata": {
        "id": "21wi-tvGr1h1"
      }
    },
    {
      "cell_type": "code",
      "source": [
        "def second(lst): # This method has a time complexity of O(n) as it only requires a single pass through the list.\n",
        "\n",
        "  if len(lst) <2:\n",
        "    return None\n",
        "  smallest = float('inf')\n",
        "  sec_smallest = float('inf')\n",
        "  for e in lst:\n",
        "    if e < smallest:\n",
        "      sec_smallest = smallest\n",
        "      smallest = e\n",
        "\n",
        "    elif e < sec_smallest:\n",
        "      sec_smallest = e\n",
        "\n",
        "\n",
        "  return sec_smallest\n"
      ],
      "metadata": {
        "id": "yYCpqns2rutj"
      },
      "execution_count": null,
      "outputs": []
    },
    {
      "cell_type": "code",
      "source": [
        "second([10,7,8])"
      ],
      "metadata": {
        "colab": {
          "base_uri": "https://localhost:8080/"
        },
        "id": "0nryhzGouqnC",
        "outputId": "22ff4d7b-5c46-4530-9884-48362ff05f4d"
      },
      "execution_count": null,
      "outputs": [
        {
          "output_type": "execute_result",
          "data": {
            "text/plain": [
              "8"
            ]
          },
          "metadata": {},
          "execution_count": 25
        }
      ]
    },
    {
      "cell_type": "markdown",
      "source": [
        "# Dictionary\n",
        "\n",
        "\n",
        "* Key-Value Pairs: A dictionary stores data in key-value pairs, where each key\n",
        "acts as an identifier for its corresponding value.\n",
        "* Unique Keys: Keys in a dictionary are unique, allowing for efficient retrieval of values without searching through the entire structure."
      ],
      "metadata": {
        "id": "IqY18S7b5DDI"
      }
    },
    {
      "cell_type": "code",
      "source": [
        "mt_dict = {}\n",
        "\n",
        "students = {\n",
        "    \"Alice\": 95,\n",
        "    \"Bob\": 88,\n",
        "    \"Charlie\": 92,\n",
        "    \"Diana\": 78\n",
        "}"
      ],
      "metadata": {
        "id": "FfHzAKfuuvKi"
      },
      "execution_count": null,
      "outputs": []
    },
    {
      "cell_type": "code",
      "source": [
        "students[\"Bob\"]"
      ],
      "metadata": {
        "colab": {
          "base_uri": "https://localhost:8080/"
        },
        "id": "X9jDhY1G5dLN",
        "outputId": "61f12841-fc52-42f0-8a10-33a5ca0adfb0"
      },
      "execution_count": null,
      "outputs": [
        {
          "output_type": "execute_result",
          "data": {
            "text/plain": [
              "88"
            ]
          },
          "metadata": {},
          "execution_count": 27
        }
      ]
    },
    {
      "cell_type": "code",
      "source": [
        "students.keys, students.values, students.items"
      ],
      "metadata": {
        "colab": {
          "base_uri": "https://localhost:8080/"
        },
        "id": "QBp_mmwy5h9u",
        "outputId": "27aebb9c-5619-459b-a063-e89a86306688"
      },
      "execution_count": null,
      "outputs": [
        {
          "output_type": "execute_result",
          "data": {
            "text/plain": [
              "(<function dict.keys>, <function dict.values>, <function dict.items>)"
            ]
          },
          "metadata": {},
          "execution_count": 30
        }
      ]
    },
    {
      "cell_type": "code",
      "source": [
        "students = {}\n",
        "# Function to add a new student\n",
        "def add_student(name, age, grade):\n",
        "    students[name] = {\"age\": age, \"grade\": grade}\n",
        "    print(f\"Student {name} added successfully!\")\n",
        "\n",
        "add_student(\"Alice\", 16, 95)\n",
        "add_student(\"Bob\", 17, 88)\n",
        "add_student(\"Charlie\", 16, 92)"
      ],
      "metadata": {
        "colab": {
          "base_uri": "https://localhost:8080/"
        },
        "id": "fbrkD6Zl5pTu",
        "outputId": "844e21ec-b5f3-4518-f1b0-72da9b6ffec5"
      },
      "execution_count": null,
      "outputs": [
        {
          "output_type": "stream",
          "name": "stdout",
          "text": [
            "Student Alice added successfully!\n",
            "Student Bob added successfully!\n",
            "Student Charlie added successfully!\n"
          ]
        }
      ]
    },
    {
      "cell_type": "code",
      "source": [
        "students"
      ],
      "metadata": {
        "colab": {
          "base_uri": "https://localhost:8080/"
        },
        "id": "GSPmeqWB7DHI",
        "outputId": "e5b6684a-74bd-4ae5-c4d0-b1b5f4ff4b6d"
      },
      "execution_count": null,
      "outputs": [
        {
          "output_type": "execute_result",
          "data": {
            "text/plain": [
              "{'Alice': {'age': 16, 'grade': 95},\n",
              " 'Bob': {'age': 17, 'grade': 88},\n",
              " 'Charlie': {'age': 16, 'grade': 92}}"
            ]
          },
          "metadata": {},
          "execution_count": 34
        }
      ]
    },
    {
      "cell_type": "code",
      "source": [
        "del students['Alice']"
      ],
      "metadata": {
        "id": "xS6Leq097QHN"
      },
      "execution_count": null,
      "outputs": []
    },
    {
      "cell_type": "code",
      "source": [
        "students"
      ],
      "metadata": {
        "colab": {
          "base_uri": "https://localhost:8080/"
        },
        "id": "lLI77-Ez7enN",
        "outputId": "2c3ebaee-f080-4eb0-91e6-f7a85e30c355"
      },
      "execution_count": null,
      "outputs": [
        {
          "output_type": "execute_result",
          "data": {
            "text/plain": [
              "{'Bob': {'age': 17, 'grade': 88}, 'Charlie': {'age': 16, 'grade': 92}}"
            ]
          },
          "metadata": {},
          "execution_count": 36
        }
      ]
    },
    {
      "cell_type": "code",
      "source": [
        "students.pop(\"dave\", \"NA\")"
      ],
      "metadata": {
        "colab": {
          "base_uri": "https://localhost:8080/",
          "height": 35
        },
        "id": "cFo1Tbph7fqN",
        "outputId": "54bc7a54-8d24-4cb2-9e31-7c7281c47f58"
      },
      "execution_count": null,
      "outputs": [
        {
          "output_type": "execute_result",
          "data": {
            "text/plain": [
              "'NA'"
            ],
            "application/vnd.google.colaboratory.intrinsic+json": {
              "type": "string"
            }
          },
          "metadata": {},
          "execution_count": 37
        }
      ]
    },
    {
      "cell_type": "code",
      "source": [
        "students.pop(\"Bob\", \"NA\")"
      ],
      "metadata": {
        "colab": {
          "base_uri": "https://localhost:8080/"
        },
        "id": "wACKNQzZ7xk-",
        "outputId": "8f92993c-a5ed-4efd-ed21-b9dcc2a533a9"
      },
      "execution_count": null,
      "outputs": [
        {
          "output_type": "execute_result",
          "data": {
            "text/plain": [
              "88"
            ]
          },
          "metadata": {},
          "execution_count": 40
        }
      ]
    },
    {
      "cell_type": "code",
      "source": [
        "up = {\n",
        "    \"theme\": \"dark\",  # User has selected a dark theme\n",
        "    \"language\": \"en\",  # User prefers English\n",
        "    \"notifications\": None,  # User hasn't set notification preferences\n",
        "    \"font_size\": 14,  # User prefers a font size of 14\n",
        "    \"timezone\": None,  # User hasn't specified a timezone\n",
        "    \"show_images\": True  # User wants to see images\n",
        "}\n",
        "up.items()"
      ],
      "metadata": {
        "colab": {
          "base_uri": "https://localhost:8080/"
        },
        "id": "gmVKqkBz8m-L",
        "outputId": "d01c370e-2836-4374-b737-704593c2dc8e"
      },
      "execution_count": null,
      "outputs": [
        {
          "output_type": "execute_result",
          "data": {
            "text/plain": [
              "dict_items([('theme', 'dark'), ('language', 'en'), ('notifications', None), ('font_size', 14), ('timezone', None), ('show_images', True)])"
            ]
          },
          "metadata": {},
          "execution_count": 45
        }
      ]
    },
    {
      "cell_type": "code",
      "source": [
        "out = {}\n",
        "for k,v in up.items():\n",
        "  if v != None:\n",
        "    out [k] = v\n"
      ],
      "metadata": {
        "id": "1s5_SbdV837E"
      },
      "execution_count": null,
      "outputs": []
    },
    {
      "cell_type": "code",
      "source": [
        "out"
      ],
      "metadata": {
        "colab": {
          "base_uri": "https://localhost:8080/"
        },
        "id": "nbPmGbXC9Bnk",
        "outputId": "3cd0be2a-bcb0-44c6-d0b6-33942c1b107c"
      },
      "execution_count": null,
      "outputs": [
        {
          "output_type": "execute_result",
          "data": {
            "text/plain": [
              "{'theme': 'dark', 'language': 'en', 'font_size': 14, 'show_images': True}"
            ]
          },
          "metadata": {},
          "execution_count": 51
        }
      ]
    },
    {
      "cell_type": "code",
      "source": [
        "# Dictionary Comprehensions\n",
        "{k:v for k, v in up.items() if v != None}"
      ],
      "metadata": {
        "colab": {
          "base_uri": "https://localhost:8080/"
        },
        "id": "lBjMJan-9RKG",
        "outputId": "8736b3e2-92a9-4e46-b75b-cb0e1f10b1c1"
      },
      "execution_count": null,
      "outputs": [
        {
          "output_type": "execute_result",
          "data": {
            "text/plain": [
              "{'theme': 'dark', 'language': 'en', 'font_size': 14, 'show_images': True}"
            ]
          },
          "metadata": {},
          "execution_count": 52
        }
      ]
    },
    {
      "cell_type": "markdown",
      "source": [
        "# Set\n",
        "\n",
        "\"What is a set?\":\n",
        "\n",
        "* Unique Items: A set is a collection of unique items, meaning no duplicates are allowed.\n",
        "* Order Irrelevance: The order of items in a set does not matter, and sets do not support indexing.\n",
        "* Membership Testing: Sets are optimized for checking if an item is a member, making them efficient for such operations.\n",
        "\n",
        "\n",
        "Operations on sets in Python\":\n",
        "\n",
        "1. Union: Combines the contents of two sets, creating a new set with all unique elements from both sets.\n",
        "2. Intersection: Identifies common elements between two sets, resulting in a new set with only those shared elements.\n",
        "3. Difference: Subtracts the elements of one set from another, producing a set with elements unique to the first set.\n",
        "4. Symmetric Difference: Finds elements that are unique to each set, excluding any shared elements, and creates a new set with these unique items.\n"
      ],
      "metadata": {
        "id": "WJLdQq_d-v2Z"
      }
    },
    {
      "cell_type": "code",
      "source": [
        "my_list = [1, 2, 3, 4, 5]\n",
        "my_set = set(my_list)\n",
        "my_set"
      ],
      "metadata": {
        "colab": {
          "base_uri": "https://localhost:8080/"
        },
        "id": "lVi5OR7n-Rzc",
        "outputId": "e7c657a1-3866-4dc9-a9b6-e638d3573701"
      },
      "execution_count": null,
      "outputs": [
        {
          "output_type": "execute_result",
          "data": {
            "text/plain": [
              "{1, 2, 3, 4, 5}"
            ]
          },
          "metadata": {},
          "execution_count": 54
        }
      ]
    },
    {
      "cell_type": "code",
      "source": [
        "my_string = \"hello\"\n",
        "my_set = set(my_string)\n",
        "my_set"
      ],
      "metadata": {
        "colab": {
          "base_uri": "https://localhost:8080/"
        },
        "id": "izrxA0Q6_4Yh",
        "outputId": "47787533-1446-4a45-b56b-227400958501"
      },
      "execution_count": null,
      "outputs": [
        {
          "output_type": "execute_result",
          "data": {
            "text/plain": [
              "{'e', 'h', 'l', 'o'}"
            ]
          },
          "metadata": {},
          "execution_count": 55
        }
      ]
    },
    {
      "cell_type": "code",
      "source": [
        "set1 = {'a','b','c','d','e','f'}\n",
        "set2 = {'d','e','f','g','h','i'}\n",
        "set1 | set2 # set1.union(set2)"
      ],
      "metadata": {
        "colab": {
          "base_uri": "https://localhost:8080/"
        },
        "id": "B6pqvhD4ADY2",
        "outputId": "d2dc8b60-34dc-48ee-b9f0-1ddad01180e1"
      },
      "execution_count": null,
      "outputs": [
        {
          "output_type": "execute_result",
          "data": {
            "text/plain": [
              "{'a', 'b', 'c', 'd', 'e', 'f', 'g', 'h', 'i'}"
            ]
          },
          "metadata": {},
          "execution_count": 68
        }
      ]
    },
    {
      "cell_type": "code",
      "source": [
        "set1 & set2 # set1.intersection(set2)"
      ],
      "metadata": {
        "colab": {
          "base_uri": "https://localhost:8080/"
        },
        "id": "bYLLpXpWBgQs",
        "outputId": "38bc10d7-c28f-4672-ac50-c97e77f818d0"
      },
      "execution_count": null,
      "outputs": [
        {
          "output_type": "execute_result",
          "data": {
            "text/plain": [
              "{'d', 'e', 'f'}"
            ]
          },
          "metadata": {},
          "execution_count": 66
        }
      ]
    },
    {
      "cell_type": "code",
      "source": [
        "set1 - set2 # difference_set = set1.difference(set2)"
      ],
      "metadata": {
        "colab": {
          "base_uri": "https://localhost:8080/"
        },
        "id": "eD1NJw4gBr-F",
        "outputId": "da04708b-dcab-43f5-bfe6-1a7115ffd9e7"
      },
      "execution_count": null,
      "outputs": [
        {
          "output_type": "execute_result",
          "data": {
            "text/plain": [
              "{'a', 'b', 'c'}"
            ]
          },
          "metadata": {},
          "execution_count": 69
        }
      ]
    },
    {
      "cell_type": "code",
      "source": [
        "set1 ^ set2  # symmetric_diff_set = set1.symmetric_difference(set2)"
      ],
      "metadata": {
        "colab": {
          "base_uri": "https://localhost:8080/"
        },
        "id": "eavtyPPvCBvp",
        "outputId": "7370d957-6dc7-423a-b89e-9c17a9da3197"
      },
      "execution_count": null,
      "outputs": [
        {
          "output_type": "execute_result",
          "data": {
            "text/plain": [
              "{'a', 'b', 'c', 'g', 'h', 'i'}"
            ]
          },
          "metadata": {},
          "execution_count": 71
        }
      ]
    },
    {
      "cell_type": "code",
      "source": [
        "set3 = set1 ^ set2\n",
        "set3.add('hello')\n",
        "set3"
      ],
      "metadata": {
        "colab": {
          "base_uri": "https://localhost:8080/"
        },
        "id": "PW_8b8aOCIDU",
        "outputId": "62463302-cbe1-4c4e-9e60-3f60da83fe8e"
      },
      "execution_count": null,
      "outputs": [
        {
          "output_type": "execute_result",
          "data": {
            "text/plain": [
              "{'a', 'b', 'c', 'g', 'h', 'hello', 'i'}"
            ]
          },
          "metadata": {},
          "execution_count": 75
        }
      ]
    },
    {
      "cell_type": "code",
      "source": [
        "def has_unique_char(data): # The function has a linear time complexity of O(N), as converting the string to a set takes O(N) time.\n",
        "  return len(set(data)) == len(data)"
      ],
      "metadata": {
        "id": "IvnDF22cDJ8k"
      },
      "execution_count": null,
      "outputs": []
    },
    {
      "cell_type": "code",
      "source": [
        "has_unique_char('hello')"
      ],
      "metadata": {
        "colab": {
          "base_uri": "https://localhost:8080/"
        },
        "id": "0Wwt8H5SDlDd",
        "outputId": "afcedf2c-86d4-46a3-eaac-5dee404ac337"
      },
      "execution_count": null,
      "outputs": [
        {
          "output_type": "execute_result",
          "data": {
            "text/plain": [
              "False"
            ]
          },
          "metadata": {},
          "execution_count": 77
        }
      ]
    },
    {
      "cell_type": "code",
      "source": [
        "has_unique_char('sample')"
      ],
      "metadata": {
        "colab": {
          "base_uri": "https://localhost:8080/"
        },
        "id": "xmn1G1RQDngE",
        "outputId": "0e1f86a0-1ba5-4651-aebc-5a3f8c73183f"
      },
      "execution_count": null,
      "outputs": [
        {
          "output_type": "execute_result",
          "data": {
            "text/plain": [
              "True"
            ]
          },
          "metadata": {},
          "execution_count": 80
        }
      ]
    },
    {
      "cell_type": "markdown",
      "source": [
        "# Queue\n",
        "\n",
        "\"What is a queue?\":\n",
        "\n",
        "* FIFO Principle: Queues follow a First-In, First-Out (FIFO) policy, meaning the first element added is the first one removed.\n",
        "* Enqueue and Dequeue: Adding an item to the end of the queue is called \"enqueue,\" and removing an item from the front is called \"dequeue.\"\n",
        "* Peek Operation: You can peek at the first item in the queue without removing it, to see what will be dequeued next.\n",
        "\n",
        "\n",
        "Deque for Queues: A deque (double-ended queue) allows efficient insertion and deletion from both ends, making it ideal for queue operations.\n",
        "\n",
        "\n",
        "\n",
        "\n",
        "```\n",
        "from collections import deque\n",
        "\n",
        "# Create a queue using deque\n",
        "queue = deque()\n",
        "\n",
        "# Enqueue (add elements to the end)\n",
        "queue.append(10)\n",
        "queue.append(20)\n",
        "queue.append(30)\n",
        "\n",
        "# Dequeue (remove elements from the front)\n",
        "print(queue.popleft())  # Output: 10\n",
        "print(queue.popleft())  # Output: 20\n",
        "print(queue)            # Output: deque([30])\n",
        "\n",
        "# Peek (view the front element without removing it)\n",
        "print(queue[0])         # Output: 30\n",
        "```\n",
        "\n"
      ],
      "metadata": {
        "id": "dVx0s6e6ELFi"
      }
    },
    {
      "cell_type": "markdown",
      "source": [
        "![Untitled.jpg](data:image/jpeg;base64,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)"
      ],
      "metadata": {
        "id": "OEV3PGoRFo31"
      }
    },
    {
      "cell_type": "code",
      "source": [
        "from collections import deque\n",
        "\n",
        "queue = deque()\n",
        "queue.append(1)\n",
        "queue.append(2)\n",
        "queue.append(3)"
      ],
      "metadata": {
        "id": "M1VHKK02DtDb"
      },
      "execution_count": null,
      "outputs": []
    },
    {
      "cell_type": "code",
      "source": [
        "queue"
      ],
      "metadata": {
        "colab": {
          "base_uri": "https://localhost:8080/"
        },
        "id": "GImBiAfVF1om",
        "outputId": "107eb418-92b6-4b06-cb08-6e410eddb810"
      },
      "execution_count": null,
      "outputs": [
        {
          "output_type": "execute_result",
          "data": {
            "text/plain": [
              "deque([1, 2, 3])"
            ]
          },
          "metadata": {},
          "execution_count": 82
        }
      ]
    },
    {
      "cell_type": "code",
      "source": [
        "def  print_binary(n):\n",
        "\n",
        "  if n<=0:\n",
        "    return\n",
        "\n",
        "  q= deque()\n",
        "  q.append(1)\n",
        "\n",
        "  for i in range(n):\n",
        "    bin = q.popleft()\n",
        "    print(bin)\n",
        "    q.append(bin*10)\n",
        "    q.append(bin*10 + 1)\n",
        "\n",
        "\n",
        "print_binary(6)"
      ],
      "metadata": {
        "colab": {
          "base_uri": "https://localhost:8080/"
        },
        "id": "chmLAt1kF28G",
        "outputId": "4e3b11db-af8d-44ab-ea16-53fecc9b0537"
      },
      "execution_count": null,
      "outputs": [
        {
          "output_type": "stream",
          "name": "stdout",
          "text": [
            "1\n",
            "10\n",
            "11\n",
            "100\n",
            "101\n",
            "110\n"
          ]
        }
      ]
    },
    {
      "cell_type": "markdown",
      "source": [
        "**Reverse the first k elements of a queue.**"
      ],
      "metadata": {
        "id": "8ASKfnQjNnE7"
      }
    },
    {
      "cell_type": "code",
      "source": [
        "def krev(q,k):\n",
        "\n",
        "  if k <= 0:\n",
        "    return q\n",
        "\n",
        "  q= deque(q)\n",
        "  temp = []\n",
        "  for i in range(k):\n",
        "    temp.append(q.popleft())\n",
        "\n",
        "  for item in temp:\n",
        "    q.appendleft(item)\n",
        "  return q\n"
      ],
      "metadata": {
        "id": "8wRHsj9VMeTw"
      },
      "execution_count": null,
      "outputs": []
    },
    {
      "cell_type": "code",
      "source": [
        "krev(q= [1, 2, 3, 4, 5], k = 3)"
      ],
      "metadata": {
        "colab": {
          "base_uri": "https://localhost:8080/"
        },
        "id": "cHSXSf24OOOh",
        "outputId": "db405049-a37b-4dde-cea5-a642abdaca68"
      },
      "execution_count": null,
      "outputs": [
        {
          "output_type": "execute_result",
          "data": {
            "text/plain": [
              "deque([3, 2, 1, 4, 5])"
            ]
          },
          "metadata": {},
          "execution_count": 131
        }
      ]
    },
    {
      "cell_type": "markdown",
      "source": [
        "# Stack (LIFO - Last In, First Out)\n",
        "\n",
        "\n",
        "\n",
        "*   When you need to process things in reverse order (like undo functionality or depth-first search in graphs).\n",
        "\n",
        "Push and Pop: Adding an item to the stack is called \"push,\" and removing an item is called \"pop.\" Both operations occur at the top of the stack.\n",
        "\n",
        "\n",
        "\n",
        "```\n",
        "from collections import deque\n",
        "\n",
        "# Create a stack using deque\n",
        "stack = deque()\n",
        "\n",
        "# Push elements\n",
        "stack.append(10)\n",
        "stack.append(20)\n",
        "stack.append(30)\n",
        "\n",
        "# Pop elements\n",
        "print(stack.pop())  # Output: 30\n",
        "print(stack.pop())  # Output: 20\n",
        "print(stack)        # Output: deque([10])\n",
        "\n",
        "# Peek\n",
        "print(stack[-1])  # Output: 10\n",
        "```\n",
        "\n"
      ],
      "metadata": {
        "id": "ib0Xmqg1Wm_Z"
      }
    },
    {
      "cell_type": "markdown",
      "source": [
        "![stack-operations.webp](data:image/webp;base64,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)"
      ],
      "metadata": {
        "id": "Ydb9lX1kWtLe"
      }
    },
    {
      "cell_type": "code",
      "source": [
        "card_stack = []\n",
        "\n",
        "card_stack.append(\"JH\")\n",
        "card_stack.append('2D')\n",
        "card_stack.append('10S')\n",
        "\n",
        "card_stack"
      ],
      "metadata": {
        "colab": {
          "base_uri": "https://localhost:8080/"
        },
        "id": "iVa12ZJLOSux",
        "outputId": "c6761760-d9ea-46c4-b122-c0661bc699d0"
      },
      "execution_count": null,
      "outputs": [
        {
          "output_type": "execute_result",
          "data": {
            "text/plain": [
              "['JH', '2D', '10S']"
            ]
          },
          "metadata": {},
          "execution_count": 135
        }
      ]
    },
    {
      "cell_type": "code",
      "source": [
        "card_stack.pop()\n",
        "card_stack"
      ],
      "metadata": {
        "colab": {
          "base_uri": "https://localhost:8080/"
        },
        "id": "pKCT5VjfYuk5",
        "outputId": "29a42d0c-d77b-4a74-c55d-c2b7dabd5b78"
      },
      "execution_count": null,
      "outputs": [
        {
          "output_type": "execute_result",
          "data": {
            "text/plain": [
              "['JH', '2D']"
            ]
          },
          "metadata": {},
          "execution_count": 136
        }
      ]
    },
    {
      "cell_type": "markdown",
      "source": [
        "**A stack is a concept in computer science.**\n",
        "\n",
        "**A list in Python is an ordered collection of elements that can store multiple data types.**"
      ],
      "metadata": {
        "id": "RBtL09vqaUW9"
      }
    },
    {
      "cell_type": "code",
      "source": [
        "hist_stack = deque()\n",
        "\n",
        "\n",
        "hist_stack.append(10)\n",
        "hist_stack.append(20)\n",
        "hist_stack.append(30)\n",
        "print(hist_stack)\n",
        "# Pop elements\n",
        "print(f\"we popped {hist_stack.pop()}\")\n",
        "print(f\"we popped {hist_stack.pop()}\")\n",
        "print(hist_stack)"
      ],
      "metadata": {
        "colab": {
          "base_uri": "https://localhost:8080/"
        },
        "id": "YP1ytvOaY2S5",
        "outputId": "3def3026-c7e0-41a3-dc42-0ab1487092eb"
      },
      "execution_count": null,
      "outputs": [
        {
          "output_type": "stream",
          "name": "stdout",
          "text": [
            "deque([10, 20, 30])\n",
            "we popped 30\n",
            "we popped 20\n",
            "deque([10])\n"
          ]
        }
      ]
    },
    {
      "cell_type": "markdown",
      "source": [
        "**Matching parentheses**"
      ],
      "metadata": {
        "id": "eB6TCd2aiM4r"
      }
    },
    {
      "cell_type": "code",
      "source": [
        "def matching_parenthese(string):\n",
        "  stack = deque()\n",
        "  for element in string:\n",
        "    if element == \"(\":\n",
        "      stack.append(element)\n",
        "\n",
        "    if element == \")\":\n",
        "      if len(stack) != 0 and stack[-1] == \"(\":\n",
        "        stack.pop()\n",
        "      else:\n",
        "        return \"Not Matching1\"\n",
        "  if len(stack) ==0:\n",
        "    return \"Matching2\"\n",
        "  else:\n",
        "    return \"Not Matching3\"   # [\"(\", \"(\", \")\"]"
      ],
      "metadata": {
        "id": "as4NzF92iMpg"
      },
      "execution_count": null,
      "outputs": []
    },
    {
      "cell_type": "code",
      "source": [
        "matching_parenthese(\"(hi)there\")"
      ],
      "metadata": {
        "colab": {
          "base_uri": "https://localhost:8080/",
          "height": 35
        },
        "id": "OycTZqmvZUKo",
        "outputId": "35405d8f-8cf7-45b6-d49d-71a5a93692ed"
      },
      "execution_count": null,
      "outputs": [
        {
          "output_type": "execute_result",
          "data": {
            "text/plain": [
              "'Matching2'"
            ],
            "application/vnd.google.colaboratory.intrinsic+json": {
              "type": "string"
            }
          },
          "metadata": {},
          "execution_count": 172
        }
      ]
    },
    {
      "cell_type": "code",
      "source": [
        "matching_parenthese(\"(()\")"
      ],
      "metadata": {
        "colab": {
          "base_uri": "https://localhost:8080/",
          "height": 35
        },
        "id": "267vzqZPkQ7t",
        "outputId": "402bb20a-d044-4d75-8ba9-c97c9e2a4221"
      },
      "execution_count": null,
      "outputs": [
        {
          "output_type": "execute_result",
          "data": {
            "text/plain": [
              "'Not Matching3'"
            ],
            "application/vnd.google.colaboratory.intrinsic+json": {
              "type": "string"
            }
          },
          "metadata": {},
          "execution_count": 173
        }
      ]
    },
    {
      "cell_type": "markdown",
      "source": [
        "**Validate Balanced Parentheses, Braces, and Brackets**"
      ],
      "metadata": {
        "id": "pyI_dyuSspgU"
      }
    },
    {
      "cell_type": "code",
      "source": [
        "def matching_bracket(string):\n",
        "  stack = deque()\n",
        "  matching_brackets = {')': '(', '}': '{', ']': '['}\n",
        "  for ch in string:\n",
        "    if ch in matching_brackets.values():\n",
        "      stack.append(ch)\n",
        "    elif ch in matching_brackets.keys():\n",
        "      if stack and stack[-1] == matching_brackets[ch]:\n",
        "        stack.pop()\n",
        "      else:\n",
        "        return \"not balanced1\"\n",
        "  if not stack:\n",
        "    return \"balanced2\"\n",
        "\n",
        "  else:\n",
        "    return \"not balanced3\""
      ],
      "metadata": {
        "id": "cO1D9KxQn2Dv"
      },
      "execution_count": null,
      "outputs": []
    },
    {
      "cell_type": "code",
      "source": [
        "matching_bracket(\"{[(])}\")"
      ],
      "metadata": {
        "colab": {
          "base_uri": "https://localhost:8080/",
          "height": 35
        },
        "id": "7ctyqo9dofDj",
        "outputId": "b7a4cdaa-1418-4800-cadb-e40abe83892f"
      },
      "execution_count": null,
      "outputs": [
        {
          "output_type": "execute_result",
          "data": {
            "text/plain": [
              "'not balanced1'"
            ],
            "application/vnd.google.colaboratory.intrinsic+json": {
              "type": "string"
            }
          },
          "metadata": {},
          "execution_count": 164
        }
      ]
    },
    {
      "cell_type": "code",
      "source": [
        "print(matching_bracket(\"hello\"))\n",
        "print(matching_bracket(\"hello[(\"))"
      ],
      "metadata": {
        "colab": {
          "base_uri": "https://localhost:8080/"
        },
        "id": "ckPCV7oUojHk",
        "outputId": "863c42f8-93d7-41c4-f9f5-968aac37d590"
      },
      "execution_count": null,
      "outputs": [
        {
          "output_type": "stream",
          "name": "stdout",
          "text": [
            "balanced2\n",
            "not balanced3\n"
          ]
        }
      ]
    },
    {
      "cell_type": "markdown",
      "source": [
        "**Practice:** Given an array of integers, find the next greater element for each element in the array. The next greater element for an element x is the first greater element to its right. If no such element exists, return -1."
      ],
      "metadata": {
        "id": "FHpMduwXt3_A"
      }
    },
    {
      "cell_type": "code",
      "source": [],
      "metadata": {
        "id": "rE1-qopTtOUU"
      },
      "execution_count": null,
      "outputs": []
    },
    {
      "cell_type": "markdown",
      "source": [
        "**When to use?**\n",
        "\n",
        "Stacks are great for keeping track of state, such as in the matching parentheses example.\n",
        "\n",
        "Avoid using stacks if it needs to index or search for specific items in the middle, as this would require popping off all items, which is inefficient."
      ],
      "metadata": {
        "id": "dQvkEUui0hK-"
      }
    },
    {
      "cell_type": "markdown",
      "source": [
        "# Linked Lists\n",
        "\n",
        "A linked list is a linear data structure where elements (called nodes) are connected using pointers. Each node contains two parts:\n",
        "\n",
        "\n",
        "1.   Data: The value of the element.\n",
        "2.   Pointer (or reference or *next*): A reference to the next node in the list.\n",
        "\n",
        "\n",
        "\n",
        "\n",
        "\n"
      ],
      "metadata": {
        "id": "As4fGPLA1-fU"
      }
    },
    {
      "cell_type": "markdown",
      "source": [
        "![LLdrawio.png](data:image/png;base64,iVBORw0KGgoAAAANSUhEUgAAAywAAADdCAIAAADWymHrAAAkaUlEQVR42u3de1xU5b7H8WcNA+KAMCoqEHIRRVNT8pqpgLnLdualtJ1m3nbl67SPJZ2tdXanVwxYJ7uYeNrVPt7NLrqPJampWerg9oaoiYoaog4XuYk4IAzIbZ0/5pzZhHcdZtaa+bxfvXrhzABrnvVbz/N9nrVmIcmyLAAAAOBYGpoAUBMmTaBIAEIYPQTgBBJNAIUUCT05zQQ7hjDHVQrDCACofZCmJ6eZOJDsGMKoFLjRwcfsFAzSAAeSckIY4CYHn8zAB2bhAAhhABMmUFQkToAQBjBe0B4AiZNuAi4YwtivYLygPQDQTcAJIYz9CgDAb7FAQQgD6A8AwAlYoCCEwaUTyB29K/oDAABcOoQpNO24ZgIhVwEA1MC9TsY4L4SRCwAw4NAEQEuHAwUfZpyOBABmoyDjc5gRwgAAIFGQ8d2D3ULYpB2TpCVS0pGkG70g6UiStESatGOSgw/TtJI0/Sp92NdhF6ousL9BRw+QKABXC2GqPkwZd0FHT0QGqHkOPkIY4y4ApR6qjERw0+HJPcfJFj/gCWEAwEgEwAkHvPND2LGyY6O2jPJZ4SMtkXxW+IzaMupY2bFmr2mQGzaYNozcPNL6MmmJFPRl0Oy9s6+9zCunMmfarmnWl4V8FbLmzBqZqSvg1KkeAEBxIUwW8sJjCwdtGLQ9f7sQorNvZy+N1/b87YM2DFp4bKEtPNU21v4x9Y9Pb396Z8FOnVbX2bdzgHdAkaXo08xP4zbFnas4Z/uB+4r39f+u/5ozaxrkhhCfkKq6qhnGGUmHk5rmMAYcwMFTPQCA4kLY1tyt/5H+H0KIT4d9WjGzIve53NLppStiV3h7eCccSthVsMv6sm+yv/nyzJehvqGHnj50cdrF3OdyL067uGfsnmBdcHZF9rpz66wvK7IUvZj64qWaSxO7TCyeWpw3Ja90eul7g97bWbCzoraCAQcAACiK1r4/LuFQQsKhhNt5ZXV9dfKJ5KsNV9/un/Byz5clIQkhPCSPmd1n5lXlJRxK+DTz0+GBwzWS5h9F//Dz9Hu196v9A/rbvn1o4NBJXSd9fOzjjEsZ1kd+zP/x1/Jf+wX0+3zY5/5e/tafNq/vvDPlZ5adXsaehqrJqp0/yMx8AOAGnLYSll+Vf6LsRAfvDhMjJki/7aVHh45u26rtL6W/lNaUekgey2KWXZ5x+c99/tzsJ1iTls3PF35ulBtHh44O8A6wPSgJ6bmuz7XWtv7toKDUwQq4AYktBwCXY+eVsMQBiW/3e/u6TyUdSWq6SJZflW+uNdc21D6+5XEPjUfTVzY0NlTUVjTKjbmVuUG6oH8+LjdcrL547sq5tJK0FFPKoYuHbE9V1lXmVuYKIfq279vs90b6RbZv1V4FgwKDFQAAhDAHKLtaVl1fLYQosBTc/JWykHde2PmXg385UnqkQW6wPqiRNF4aL9trGuVG21PNeEgeGok7cQAAAEKYEEIInVbnqfEM8QnZO25v0+Wua63NXjszdWZdY11nn87DAoc9HPhwdPvo3m17J59Iti2taSSNh+QhhKhrrGOnAoBtFssqO/uQzSSENRfiE6L30pddLWt2zrGZkuqSpCNJdY11hv6Gt/q91fTqsfrGetvXvp6+PfQ9dhfuTr+YPinyN3+eMrcy11xr1nvp2dmga4HboXbZhw7q1ii1u+G083SRfpEPtHugvLZ8/bn1ze6nuvbs2jYr2wxOGZxXmXf+yvlCS2EbzzaPhTzWNIGV1pT+kPtD0+96MvRJT43n5pzNhZbCJnUmf3f+u6a3qMBdH7H0gADHOOjW4AohTKfVvdzz5VYerT7J/CTpcJKl3mLNTHuK9rye9nplXWW/gH4hviHBumC9l96a1Woba63fm12RPXXX1COlR5r+wNig2KGBQ7PKs2btnnWp5pIQokFu+Pzk559kfsJuVtERy0gAMCoDbjLEaJ34uyd0mZBVnvX2obcNhw0fZHzQ3rt9dX11aU2pEGLkfSPfG/SeJKQQ35AXerxgOGz46NhHn538zPYanVb3dMTTm3I2FVoKK+sqfT19/bz8lscsH7Vl1ObczZ3WdOrUupOl3mKuNTe9YwUYCaD2DpQKAeAyQ4zGqW0h/eXBvxx86uBjIY8JIfIq8y5fvXy//v41I9b8+MSP1qu4JCG9+eCbq+NWd/PvVtNQk1eZp9Vo/7XXv2Y9m7Vg0IIA74DMy5nZFdnWH9jFr8uhpw/N6T1H30pfYCmobaz9l57/Yhxj7NS6E5XHbAV0oOCYA5TVp8myWx16TKQBAIAiuNsNtEhgzIUBACCEgYwKME+gSUDdEcIAgHmC6oY8pk7gUCSEAQAY8gDnz0wIYQAAAMxMCGEAAAAKo1XmZhmNxtTU1NjY2Li4OHYSAABwPQpdCTMajQaDwWg0socAVeKzUwCg0hAGhkKoGxeSAwAhjKEQAAAQwgAAAEAIAwAAXLpCCKP8AABwBi5dIYRRfgCTIQAghIGxDWAyBACEMDC2AQDzVxDCAABg/gooPYQxlQAAelkATghhTCUAgF6W2Ao4IYRx6AEAiK2A3UKYzKEHEP0BAI4PYYQZgKMFYOIEOCGEcVABAFyze2XiBEKYGg8qkh4oA7gfMgtACKMrAmUAgAkRCGGAovtNOmeACRFACAOc0G/SORNPaQ4AhDCAQdLdMrB69idpHXDzHrpF3wIhDGQGsD8BcETb/S3cOr8RwgAAAJyQ37RK3vzU1NTExMS7+97Y2Ni4uDhKAM4ls7QDAPTwagxhRqPRaDTe3fcmJCQQwgguKpgHAaA/grv28AoNYfeSn4xGY2pqKsWh3r6DHg8A/RHcgXJD2F3nMIPB4KwQpqzYQ98BAICCcWE+sQe44aQCAEAIA8CkAgAIYQAAALipW55PIITh9ioFAADGvTtxy/MJhDDcXqUAdKkAGPfsihDGMMTbpRHoUgGAEAaGId4ujQAwbQEhDAAApi0AIQyAY7BSAOoDVBghDIATsFIA6gNUmCMypSuEsFWrVq1evfrmL1i1ahVzBgAAoJxM6QohbPz48XPmzImIiLg2iq1atSoiIiI+Pn78+PHMGQAAgHK4QgjT6/Xx8fEmk2nGjBkREREZGRlCiKNHj0ZERMycOdNkMsXHx+v1enY2cB0spQKAk0iy7Ap9sNlsDg8PLy8vv/Ypf39/k8lECAMAAIqicY3JsXUx7LpPsQwGAAAUyEVWwsQNFsNYBoNLk7kmEADUy3VuUXHdxTCWwew/6ENJkyh2CgCouBN3mZUwcc1iGMtgAABAsVzqZq3NFsNYBgMAAIrlUithosliGMtgAABAyVztzxbZFsNYBgPgSFybB+BOudpKmBDCbDZHR0cfPXqUEAbAxXMfn44FCGFKYzKZwsPD2bsAAIAQxsQQAMB4wvbin1zsmjAqEHBopw+4LMk1tpfDVNUhjN0HwBmDFH0PKAx3zJKEMHYfAIYOUBgg7Ts7hAEAAJD2CWGAiqc8AAAQwgAnTHkAAMy4CWEAAMDNMo/iZtzau/ie8vLy3bt3Z2VlVVZWUmN3ytfXNyoqKiYmxt/f3/XeHbVBbTi0ciT3Opd8o7dL5dDnKLTP4SzDrXPqnUhPT588eTKNZheTJ09OT0+XXQW1QW1QOVQOlUPl4I7cwR3zExMTDQaD9esRI0b07dtXmX+c0Wg0Go3GuLi4uLg4BW6e2WzOyMjYtWuX9Z8GgyEhIUHtB7BaasO6kbZNpTaoHCqHyqFy3Kpy1LoSNmvWLOvr4+Pjc3JylJQjG5v921b0Sg6/OTk58fHx1iadNWuWqoO8gmujubtY/aU2qBwqh8qhctBSFXI7L7LGGq1Wm5KSovy3pIoQZpWSkqLVahW2tY130dpqqQ1VdIgKrg37H6dUDpVD5VA5hLCbSU9Pt5aRKipeXSHMWvfW5lXj+XjV1YaKOkS118bNgz6VQ+XQ51A5kGX51reo+Pjjj62rvuPGjePsrd2NGzfOug5sbWd1oTaojbsiUTlUjhP7HG7O7IaVo9zeUL7phfnl5eXWqx1zcnJCQ0NVdMGmii4wzM3NDQsLs14jae/PCcst9xFhNdaGJEnWWalajs+WrA2noXKoHCrHsb21u1eOkt1iJWz37t1CiBEjRqil4tUoNDR0xIgRtta2bw/QcptNbai8NpyGyqFyqBzH9tbuXjkqDmFZWVlCiL59+9JSLcrawtbWVgtqw7VrQ6ZyqBz6HCoHzg1h1nsQK/P+K67E2sLquuMzteHatSFROVQOfQ6VA+eGMAAAABDCAAAACGEA4Iq4hQHNARDCAEB2/HdLtDrNARDCGFJoKxABXD9AUOg0EghhYFZJWwEUOo0EEMIAAAAIYYBScZICAEAIA5yAkxSgzAB3nZWq/g1raEOwVwHqGa5QMJK7tZzq37DG+c3LHNMVsVcBuHsH6ALhXXZOy7kPDc0L0EkCYMhz4VG7orZi2MZh0hIpdlOsudZ83dckHUmSlkiTdky60x/e7BvTStL0q/RhX4ddqLqgsBAG9Y/KDPlKawqmNgBwm/YU7fnkxCeyYoYy54Sw1VmrPZZ6dP6qc3ZFNjWhzFHZbDY7bMi3zhukJVLT/3xW+IzaMupY2TGmiOpyo8ppOQ1yw4/5P47cPNJnhY+0RPJe7v3I5kd2XNghM2Wgcm5g0o5JzTocj6UeIV+FzN47+3ZWL5iXqrc2GuXGxScW7y/er5C3pnX8r6xrrPv2/LfeHt7F1cXfm77/c58/U2EKZDAY2rZtO2fOHL1e75jfGN4mPCYoxvbP42XHd1zY8cjmRzaO2vhwp4fZI1TO9XvnWvP0XdM35mzs4tdlbp+53fXdT14+uez0sse2PGbob3ir31sSaZnKuYG44LhQ31Dr11cbru4p2vNp5qf/c+5/vh/1/UMdH2rJyZjMJM5ZteGp8bxUc2nugblbfr9F76V3+ltzwkpY5uXMfcX7ngp/KtIvckvuFku9hQpToPj4eIPBEBERkZiY6JgZ6uCOg1fHrbb9d+TpIyvjVlbUViw8trCusY49QuVcq7ax9sXUFzfnbk7on5D1bFbigMTnuj73zsB3Mp/JHNpp6Lu/vLs2ey175HZTgfv1ObN7zbZ1OGtHrs2bkve34X8rry2fvmt6bmVuS/5mEpjTaiOhf0KwLnh/8f7k48m3XCy3rpgmHUm69nHNEinpSKIqQ9iOCzsqaiuejXw2JigmrSTtcOlhKkyBwsPDp0+fbjabHdwtNvVI8CNBuqDi6uLq+mr2CJVzre/Of7cxZ+Ozkc+++eCbHpKH7fH23u0/fOhDbw/vj49/fKOLcKG0VOD0PkcS0qz7Z73S65Ws8qzPTn5GznbJXqWHvkfSgCSNpEk+nryvaN+9NacdDhtHhzBzrXnt2bXBuuDo9tHjw8fXNtZ+kfUFl24ok8Fg+L+95qRu0VJvqWus02l1nhpPdgeV00xdY93X2V9rNdqXerzkpfFq9myfdn2GBw739vC+VHOJPULl3H4Om9JtSnvv9nuK9lTUVpCzXbI2pkZNHRM2pry2/NV9r5bWlDr3fTk6hB0vO37q8qlHQx4N8Q3pH9A/0i/yp/yf8ivz6X0UO/n4Z4B2bLdYaCl8M/3Nsqtls3rMaq1tze6gcpoprSk9UXYisHVgD32Pa59trW296fFN/xj7j0i/SPaIq1ZOS0zfQ31DQ31Dz1WcK64uZo+4ZK/ipfFa+NDCiDYRR0qPvH/0fecuAzk6hKWYUmoba8eGjZWE1LF1xydCn8iryttZsFMtdZCYmCi1AGvGNxgMksKsXr26WQvYSt9oNNq3bdedXdf0w0rBXwZvzd26MnblhC4TXKAHuevKUWxtOL1ycitzy66WBfsE+2h9XHjsoXJuUjktsbijlbQ6rc5Sbym7WsZ4pJbauNMoFukXmTgg0VPj+fnJz3cV7HKXEFZoKdycszmiTZcBHQZYH3ky9MlWHq2+yPqCy/PVRZbtP3UIbxM+LWqa7b/hgcPr5foXd794O5dPwp0rx0VahiZQRuW08WoTpAuiwdVVG3dRHs9GPjuxy8Sq+qrZe2YXWYrcIoQdunjo/JXzMUHDA3WB1kceDHiwV9teh0sPHy87roqdnZCQILcA28xDVpimy79W/v7+CQkJJpMpLi7Ovm3b7NORu8fuzpiQEawLTjyceLDkoNq7ibuuHMXWhtMrR6vRaiTXud20ROU4vM+5riu1VwothYxH6hqPDAbDnd69wkvjNX/A/Ig2EafMpxKPJDprqu+4+4TVNdatylpV11i37PSyZaeXNXt2g2nD4I6DSfSKYjKZmi7/+vv7x8fHx8fHO+wuPt313adGTU04lPBD7g+UB5XTTGefzp1adyqoKqiqr/Lz8qPZqRy7qJfrLfWWNp6sh7l+bUT6Rb478N2ZqTNX/rpyTOgYFw9hOZU5B0sOdmzdceR9I5t+2M1Sb9mau3XD+Q1zes+h6BXF9mkUp3SFVr3a9hJCZJVnsTtakL3vHOmYymnbqm3Ptj235m09bT593a7jjbQ3NuVsWjB4wdiwsexk+pzbdKb8zLmKc73b9VbCnTzR0rUxocuEbfnbvsj64rX9rw0LHHY731JdX23H6wUdF8J2F+7Or8r/tz7/tvChhU0ft9RbxmwbYyw0bs/fPj1qeguODLjzaYcTu0Lr7s+8nCmE6Nu+L3ukBUmqrBxPjeeMqBmbcjYtPb10aODQZnepKLIUbcrZVFJTYrslOuhzbqPbkVdlrSqvLX8q/CmHLa8y1DmxNrw0Xgn9EvYV7csqzzp/5XyzZ6P8o4QQp82nZSHb/vZGbmVuZlmmvTbAQVdUWOotX535ykfrMz58fLOndFrdtKhpQoiNORt/e2N0ytKZkpOT7/pcu72CwbmKc2uy1vhofW5zggJ3q5yR9418JPiRdWfX/ecv/9kgNzTtcOalzTtlPvVMl2dI8FTObWqQGz4/+fnKX1fer79/Stcp6pwEURt3rItfl6QBSa08Wl37p1n6tOujkTTb87dvy9tmfSSnMmdm6swCS4G9fvtdrITdTWrPKs/KKMu4v+39D7R74NpnhwYODdYFpxamZl7OjG4fTcEpwc1qvWUmbmkladON/1wKLaku2VWwq66xbm6fuYQwF6kce9NpdSviVkz8aWLi4cQ1Z9Y83/X57vruB0sOrj27tri6eGzY2PcGvefYvx2pjkUNZW6l47PXXzP/ujFno/XritqKAyUHiixFHVt3XBG3wvbpMSihjFq6NmwnJZs9/ljIYzFBMcYC45Pbnuzg3UEIcbHm4n0+940OHf1D7g/OCmF30+prz669VHPp1d6vXvcse6Rf5OOdH192etnas2sJYQpxs4pvmQPPdMVkumKy/bOVR6vo9tFvRL9hvasce8QVKqcFBOuCfx7981fZXyUfT34/4/2rDVetlfP58M/Hho1t+reMWNRQ+FY6fvXLWGC0fe0heYS1CXu97+tvPvimv5c/B7Kiyqila8P6SckDxQeaXX/s5+W3cdTGDzI+WHZ6WZGlSKfVTek6Zf7A+auzVjsxhN2NBYMWLBi04Ma7Uloas3RpzFKq2j0N7jjYPMNMO+Du6LS6l3q89FKPl2gK3O66wMi1a0fyx93diJ+X356xe27yglDf0F+f/fXax9t4tpk/YP78AfObPvh2v7ff7vf2jf55RyOahn0DAABujXsK25uGwgEAALfGhSGEMHsUDpkMAJgogx1ICCPMA4B7o1NmBxLCAAAAWhxLZ6oKYewuAABcBUtnqgph7C4AAEAIAwCoGOcWAEIY6GwBOAHnFgBCGOhsAYAZJwhhlDdHPwAw46SXh/JCGAsqNA8A0MsDTghhAAAAgnVBh4UwX19fIYTZbKalWpS1ha2trRbUBrVB5VA5VI57Vg7rgg4KYVFRUUKIjIwMWqpFWVvY2tpqQW1QG1QOlUPlUDm4F5Is32xZsby8XK/XCyFycnJCQ0NV8ZYSExMNBoPBYEhISFDFBufm5oaFhVnnH/7+/mopHTXWhiRJQoib1zy1QeVQOVSOfSunUZYlKgfXc4uVMH9//8mTJwshFi1aRGO1EGvbTp48WV0VT21QG1QOlUPl3FYUo3KuhwvLhHVud3Pp6enWV6akpMhqYDAYhBAGg0EVW5uSkmJt3vT0dFltVFcbt1nz1AaVQ+VQOVQOHFEhtxtrJKHValVR9yoKYSkpKVqtVkWR8UatrZbaUFGH6AK1QeVQOVQOlQM7hDBZlmfNmmUtpvj4+JycHELYPcrJyYmPj7c26axZs1RdQyqqDYV1iI0uXxtUjnv1Ko1UDpWDO3OLC/Obsl7wbv16xIgRffv2tV4jqTRGo9FoNMbFxcXFxSlw88xmc0ZGxq5du6z/VNEHCFygNmwBXSnXiciuXxu/vQJEonLoVehzqBzcwTVhTaWnp1uvi8S9mzx5siudd6c2qA0qh8qhchRMonLUvRJmU15evnv37qysrMrKyrsuh59//nnPnj3Dhg373e9+p5YStss2+/r6RkVFxcTEuOSnf+1SG3e+hOQi/r82Yv39/dxtfHBM5bgq1+5VqBwqx5WjseykO9/ExcWlpqbGxsYajcYWXemz46eDHbXNAABAyYlAzSHMbDYHBQXV1NR4e3sXFhYq81y+C2wzAACEI8XS3Gk72UVycnJNTY0QoqamJjk5WRUtpcZtBgBA8dSbwO41FjlhJcxsNkdERNj+CKterz9//rzCF5bUuM0AALjSKpPrrZhpHP8rk5OTbWnGmm+Uv7Ckxm123f4EAHC7/aXkvF9td653ztLRK2HNlpSsFL6wpMZtZu4BAIDCOXolrNmSki3lKHlhSY3bzNwDAAClj6+OXAm77pKSlWIXltS4zQAAQPkcuhJmW1IKCwsbN26cEGLcuHFhYWFCwQtLzt1mLoACOLYAEMLuldlsXrx4cVhY2MqVK00mU3R0tBAiOjraZDKtXLkyLCxs8eLF111wciKnbzMnAgGOLWIjrQpC2L1KSUlZtGiRyWSaMWNGs6dmzJhhMpkWLVqUkpKiqNZR4zYDIDaCViUAq4LWYb/p2hzTbH/c6gVOcMtNUuA2A1DeYMNYDxCAr0PD/gAAOjcA7hzCAAAACGEAAAAghDmB3AKvBAAAIITdgtQCrwQAMK0H7jSEUUEA6CSAFp7W04G4F62zKiguLs72f7VQ4zYDDDMAWjY+2eHod9MOxKF/OxIAAABWXBMGAABACAMAACCEAQAAgBAGAFAuri8GCGEAACfg87EAIQwAAMD+7L7ce68hLOlIkrREavZfhy86PLfzuczLmXf603Iqc5KOJFXUVrRoI16ouhD2dZj3cu8tuVtu9I6+Pf+tXX5Xg9yw8teVP+X/RO1CIcc8AODu2H25V2uXnxLdPrpP+z7/FzsaGw5ePLju7LrvTd8vj10+KXLSbf6QitqKKTunCCHie8c7oCmvNlyde2Buv4B+gbrAlvstKaaUP6b+cf2j690qNHBWQsnHPABAIewTwp6KeOrtfm83fWRr3tapu6bO3js70i9yYIeBynzzp8ynFh5b+MFDH0iMdC4bGsiEAACFaqlrwn7f+ffvD3r/8tXLC44uqGusU+A7D9YFB+oCl55euq9oX0uN/o5OG7hpJqSFALfB4U4zu3UIE0I8EfpEV7+uhy8eLrIUWR/JqcyZtmtahy86WC8dC/oy6LX9r12puyKESCtJC/06dG/R3r1Fe/1X+U/aMUkIIQt5x4UdQ1KG+KzwkZZI2qXann/v+U32N7I9dnyEX8RbD75lqbfMS5tnrjXf5JXlteXx++IDvgiQlkg+K3ym7ZpWYCmwPrWzYKfvCt+ef+9pe4/mWnPspljfFb47C3dO2jFp4k8ThRATf5qoX6VPK0lzUNoALQRwuINmducQFuAd0F3fvaSmJLsiWwhxvOz4kJQhG3M2Tu46+atHvvp4yMdtvdomH09+Pe11Wchd/br+18P/1c2/Wzf/bstilr3S6xUhxKeZn47aMurS1UvvDHznq0e+mt1rdnF18czUmVtzt9plC5+NfHZil4lpJWmfZX52o9ecqzg3JGXIXzP/OjJ45Oq41c93e/7b89/Gbow9V3FOCDEieMTLPV+2ntaUhSwLOfl48u7C3XP7zh0RPOKVXq/M6T1HCDGn95ylMUu7+nWl4AAAgJW25X60p8ZTp9VV11eXXS0TQmzK2VRdX71mxJoxYWOsL3i+2/OP/vDoj3k/FlmKgnRB48PHLzm9RAjxTJdn/Lz8ymvLN+dsjvKP2vHkjiBdkBDiua7PPRH6xPjt4785+80ToU/c+xZ6abwS+iWkFqQuPrF4dOjovu37NnuBLOQPj32YXZG9Mm7l1G5ThRDToqZN6zZt9LbR89LmrR251lPj+Ub0GzsLdi49vXRil4n1jfXJx5NjgmLiH4iXhDQ0cGhRddHiE4uHBw2fEDGBagMAADYte5+wKP8o29dvPvjm5RmXbQlMCNHBu0MPfY8GuaFRbrz2e/29/Lc9se3kH05aE5hVr7a9Onh3sONFZt313V+Pfr20pvSNtDcs9ZZmz+ZX5m/N3Tqo46BxYeNsDw7qOCgmKGZ/8X7TFZMQIsA74MOHPqxvrH9t/2uz987WarTvDXpP76WntgAAwE1oW/SnZ5VnNXukorbixOUTp82n9xXv21e0L6s86z6f+27yE2QhF1uKD5cezirP2l24+0DJgSJL0ZBOQ+5ho5pfT/ZSj5e25m796cJP32R/80KPF5o+VWApMNeag+Xgzbmbmz5eXV9trjXnV+V38+8m/v+k5EfHPtJImvkD5j/c6WEKCwAAOC2E1TXWWeotfl5+wbpgIcSVuitzD8xdfnp5g9wghNB76UcEj/DWel+quXSjn3Dy8smpu6YeKT0ihNBIms4+nR+979EteVvubbuaX0io0+rmD5x/qPTQu7+8Gxcc1/Sp/Kr88tqK/cX79xfvv/YHWU+zCiEkIY0JG7Pk9JKGxoaHOj1EVQGAG+AOOFBwCCuyFB27dKytV9sQnxBZyK+nvb7k1JLx4ePfG/ReF78uXhqvusa6CT9NuFEIK7IUTfxp4rkr5z4Y/MHUblM76TpJQjpTfubnCz/bfVMHdBgwu9fsxMOJSUeSOvt0tj0erAv282ozKXLSfw//75t8u7nW/O8H/726vloI8Vb6W1t+v4XTkXSlAFwd3QbuVQteE/ad6bu8qrxHQx4N8Q25WH3RWGAM8QlZ/PDiHvoeXhovIcSVuiv5Vfk3+vZfLv2SXZE9JmzM3L5zA3WB1vup5lfl3/x2End7JEnxD8QP6TRk3dl1G0wbbI8HeAf4aH0yL2c2/UtKdY1147eP776u+7GyY0II6yci00rSDP0Nhv6GtJK05OPJMndPoSsFAMDxIUwW8ubczfOPzA/wDpjda7YkJK1G21rb2nqC0vaa1VmrMy5lNH1QCNHQ2GBNMN4e3lqN1lJvsV2Gf6XuyoKjC6rrq5s+aC96L/07A9/RStqTl0/aHgxvEz7yvpEHSw5+Z/rOlqu25m3dlrctxCfEesuJfUX7ko8nD+44+E+9/vSnXn8a3HFw8vHkZjeAVebtagHAzn0/QFneCfucjtxwfsPZirPWr682XD1QfCCvKs/bw3t57HLrfR/atWo3Pnx8wqGEp7c/Pbv3bCHEN9nfHL109H79/flV+daLq1prW7dr1W57/vaPjn30eMjj/QP69wvoty1v2+Qdk8eFjTtbcXZV1ipZyMG64LKrZdX11Z5envZtixHBI6ZGTf3byb/ZHvHUeCb2TzxQfODF1Be35m4dHTp6b/HeL8986evpO3/gfJ1WZ641z0ubV99Y/87Ad6ynIN8Z+M7YbWPnpc2znpRs16pda23rRccXybL8WMhj7b3bc0AAcFGsKYOyvDMeBoPhXr4/tTDVWGAsqi7KuJRh/e+U+ZSPp88zXZ75++/+PixwmO2VQzoNae3R+ueCn9efW28sMD7c6eH1j64P1AWuP79+aODQ6PbRHpJHN/9uOy7s2GDakF2R/Xy358eGjz1bcXZL3pb159dnV2TPeWDOsphlB0oOnDaffibymXat2t1JEP7nbrhSd2X5r8v9vfyndJ3SyqNVkx0l9WnXZ0vulktXL/0h8g892/YUQrRt1XZ61HRLveX7nO+/zv76xOUTw4OGrxu5rl9AP1nI7x99/8szX77Q4wXrgp8QIrxNeH5VfoopxdvDOzY49j6f+8xXzZtzN68/v35IpyE99D04IAAAgBBCkmUWkFsCl3oDABgicDMamqCF0i1NANzTEAUwRIAQBgYF9jjl4uhGYIgC4A5pnNORAAAAjsdKGAAAACEMAADAzhR60o8QBgBwucGNN47fUOh1poQwAIDLDW4tn5X49AgIYQAAkJVACAPgGnN8AAAhDAzbYI4PAIQwMGwDAABCGAAAcChOpxDCAACAE3A6hRAGAABACAOgXpxaAABCGAAn4NQCABDCAACAQ7AGrgz/C2mISRlKp4DvAAAAAElFTkSuQmCC)"
      ],
      "metadata": {
        "id": "L63tOl-X2SQy"
      }
    },
    {
      "cell_type": "markdown",
      "source": [
        "![0_0XVK02Guco9xJMJL.png](data:image/png;base64,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)"
      ],
      "metadata": {
        "id": "Pkby6TSS3eZU"
      }
    },
    {
      "cell_type": "markdown",
      "source": [
        "\n",
        "\n",
        "```\n",
        "Head → [10 | *] → [20 | *] → [30 | None]\n",
        "\n",
        "```\n",
        "\n"
      ],
      "metadata": {
        "id": "7uADaUUDt1h9"
      }
    },
    {
      "cell_type": "code",
      "source": [
        "from inspect import currentframe\n",
        "class Node:\n",
        "\n",
        "  def __init__(self, data):\n",
        "    self.data = data\n",
        "    self.next = None\n",
        "\n",
        "\n",
        "class LL:\n",
        "\n",
        "  def __init__(self):\n",
        "    self.head = None\n",
        "\n",
        "  def append(self, data):\n",
        "    new_node = Node(data)\n",
        "    if not self.head:\n",
        "      self.head = new_node\n",
        "      return\n",
        "    current = self.head\n",
        "    while current.next:\n",
        "      current = current.next\n",
        "    current.next = new_node\n",
        "\n",
        "  # search function\n",
        "  def search(self, data):\n",
        "          current = self.head\n",
        "          while current:\n",
        "              if current.data == data:\n",
        "                  return True\n",
        "              current = current.next\n",
        "          return False\n",
        "\n",
        "  def delete(self, data):\n",
        "    if not self.head:\n",
        "      return\n",
        "\n",
        "    if self.head.data == data:\n",
        "\n",
        "      self.head = self.head.next\n",
        "      return\n",
        "\n",
        "    current = self.head\n",
        "    while current.next:\n",
        "      if current.next.data == data:\n",
        "        current.next = current.next.next\n",
        "        return\n",
        "\n",
        "      current = current.next\n",
        "\n",
        "  def insert(self, data):\n",
        "\n",
        "    new_node = Node(data)\n",
        "    if not self.head:\n",
        "      self.head = new_node\n",
        "      return\n",
        "\n",
        "    if self.head.data > data:\n",
        "      self.head = new_node\n",
        "      return\n",
        "\n",
        "    current = self.head\n",
        "    while current.next and current.next.data < data:\n",
        "      current = current.next\n",
        "    new_node.next = current.next\n",
        "    current.next = new_node\n",
        "\n",
        "\n",
        "\n",
        "\n",
        "  def print(self):\n",
        "    output = []\n",
        "    current = self.head\n",
        "    while current:\n",
        "      output.append(str(current.data))\n",
        "      current = current.next\n",
        "\n",
        "    print(' -> '.join(output))"
      ],
      "metadata": {
        "id": "IZf4WlAA19x0"
      },
      "execution_count": 1,
      "outputs": []
    },
    {
      "cell_type": "code",
      "source": [
        "ll = LL()\n",
        "ll.append(\"1\")\n",
        "ll.append(\"4\")\n",
        "ll.append(\"8\")\n",
        "ll.append(\"7\")\n",
        "ll.append(\"1\")\n",
        "ll.append(\"3\")\n",
        "ll.append(\"5\")\n",
        "ll.print()\n",
        "print(ll)"
      ],
      "metadata": {
        "colab": {
          "base_uri": "https://localhost:8080/"
        },
        "id": "1VF5amaewdji",
        "outputId": "8d33e98c-fdf1-44eb-a6a3-4e86e7c2c381"
      },
      "execution_count": 2,
      "outputs": [
        {
          "output_type": "stream",
          "name": "stdout",
          "text": [
            "1 -> 4 -> 8 -> 7 -> 1 -> 3 -> 5\n",
            "<__main__.LL object at 0x7a3d899e65f0>\n"
          ]
        }
      ]
    },
    {
      "cell_type": "markdown",
      "source": [
        "**Challenge: get mid point in a linked list while only traversing it once!**"
      ],
      "metadata": {
        "id": "Fkk4Hkvi_yLc"
      }
    },
    {
      "cell_type": "code",
      "source": [
        "def get_midpoint(ll):\n",
        "\n",
        "\n",
        "    slow = ll.head\n",
        "    fast = ll.head\n",
        "    while fast and fast.next:\n",
        "      slow = slow.next\n",
        "      fast = fast.next.next\n",
        "\n",
        "    return slow.data\n"
      ],
      "metadata": {
        "id": "LEM6c74P_xEF"
      },
      "execution_count": 3,
      "outputs": []
    },
    {
      "cell_type": "code",
      "source": [
        "get_midpoint(ll)"
      ],
      "metadata": {
        "colab": {
          "base_uri": "https://localhost:8080/",
          "height": 35
        },
        "id": "vb7kcIC3EpjU",
        "outputId": "f859c349-9fb1-4b24-f725-db3eee53f2b8"
      },
      "execution_count": 4,
      "outputs": [
        {
          "output_type": "execute_result",
          "data": {
            "text/plain": [
              "'7'"
            ],
            "application/vnd.google.colaboratory.intrinsic+json": {
              "type": "string"
            }
          },
          "metadata": {},
          "execution_count": 4
        }
      ]
    },
    {
      "cell_type": "code",
      "source": [
        "def remove_duplicates(ll):\n",
        "    current = ll.head\n",
        "\n",
        "    while current and current.next:\n",
        "      if current.next.data == current.data:\n",
        "        current.next = current .next.next\n",
        "\n",
        "      else:\n",
        "        current = current.next\n",
        "\n",
        "\n"
      ],
      "metadata": {
        "id": "aIBB6pQgmt0M"
      },
      "execution_count": 5,
      "outputs": []
    },
    {
      "cell_type": "code",
      "source": [
        "import random\n",
        "elements = [i for i in range(10)]\n",
        "random.shuffle(elements)\n",
        "ll2 = LL()\n",
        "for e in elements:\n",
        "  ll2.append(e)\n",
        "\n",
        "ll2.print()\n"
      ],
      "metadata": {
        "colab": {
          "base_uri": "https://localhost:8080/"
        },
        "id": "TuBbsUDBLkLQ",
        "outputId": "8307bb03-1062-4938-93ea-678bd76313ca"
      },
      "execution_count": 6,
      "outputs": [
        {
          "output_type": "stream",
          "name": "stdout",
          "text": [
            "0 -> 9 -> 8 -> 3 -> 4 -> 6 -> 2 -> 5 -> 1 -> 7\n"
          ]
        }
      ]
    },
    {
      "cell_type": "code",
      "source": [
        "ll2.search(5)"
      ],
      "metadata": {
        "colab": {
          "base_uri": "https://localhost:8080/"
        },
        "id": "DvZ5-UF-OY4N",
        "outputId": "2e24255e-4647-4690-8e89-72e413dd4d77"
      },
      "execution_count": 7,
      "outputs": [
        {
          "output_type": "execute_result",
          "data": {
            "text/plain": [
              "True"
            ]
          },
          "metadata": {},
          "execution_count": 7
        }
      ]
    },
    {
      "cell_type": "code",
      "source": [
        "ll2.delete(0)\n"
      ],
      "metadata": {
        "id": "WC4m2n23Sg_h"
      },
      "execution_count": 8,
      "outputs": []
    },
    {
      "cell_type": "code",
      "source": [
        "import random\n",
        "elements = [i for i in range(10)]\n",
        "random.shuffle(elements)\n",
        "ll3= LL()\n",
        "for e in elements:\n",
        "  ll3.insert(e)\n",
        "\n",
        "ll3.print()\n"
      ],
      "metadata": {
        "id": "3ivHYtRCSn4x",
        "outputId": "05e5d396-83b1-49a0-eb70-af2e1d884283",
        "colab": {
          "base_uri": "https://localhost:8080/"
        }
      },
      "execution_count": 9,
      "outputs": [
        {
          "output_type": "stream",
          "name": "stdout",
          "text": [
            "0 -> 6\n"
          ]
        }
      ]
    },
    {
      "cell_type": "markdown",
      "source": [
        "Given the head of a linked list, remove the nth node from the end of the list and return its head."
      ],
      "metadata": {
        "id": "SVbIjAXvD8h0"
      }
    },
    {
      "cell_type": "code",
      "source": [
        "# Definition for singly-linked list.\n",
        "class ListNode(object):\n",
        "    def __init__(self, val=0, next=None):\n",
        "        self.val = val\n",
        "        self.next = next\n",
        "\n",
        "\n",
        "\n",
        "\n",
        "def create_linked_list(nums):\n",
        "    dummy = ListNode()\n",
        "    current = dummy\n",
        "    for num in nums:\n",
        "        current.next = ListNode(num)\n",
        "        current = current.next\n",
        "    return dummy.next\n",
        "\n",
        "def print_linked_list(head):\n",
        "    current = head\n",
        "    while current:\n",
        "        print(current.val, end=\" -> \")\n",
        "        current = current.next\n",
        "    print(\"None\")\n",
        "\n",
        "\n",
        "class Solution(object):\n",
        "    def removeNthFromEnd(self, head, n):\n",
        "        \"\"\"\n",
        "        :type head: Optional[ListNode]\n",
        "        :type n: int\n",
        "        :rtype: Optional[ListNode]\n",
        "        \"\"\"\n",
        "\n",
        "        dummy = ListNode(0)\n",
        "        dummy.next = head\n",
        "        slow = fast = dummy\n",
        "\n",
        "\n",
        "        for _ in range(n):\n",
        "          fast = fast.next\n",
        "\n",
        "\n",
        "\n",
        "        while fast.next:\n",
        "          slow = slow.next\n",
        "          fast = fast.next\n",
        "\n",
        "        slow.next = slow.next.next\n",
        "\n",
        "        return dummy.next\n",
        ""
      ],
      "metadata": {
        "id": "_EY9Jl3OD_xa"
      },
      "execution_count": 19,
      "outputs": []
    },
    {
      "cell_type": "code",
      "source": [
        "head = create_linked_list([1, 2, 3, 4, 5])\n",
        "print_linked_list(head)\n",
        "head2 = Solution().removeNthFromEnd(head = create_linked_list([1, 2, 3, 4, 5]), n = 2)\n",
        "print_linked_list(head2)"
      ],
      "metadata": {
        "id": "6TbXyG4wE8R0",
        "outputId": "b12b1dea-fcc7-4334-fe3e-8186a22bffc9",
        "colab": {
          "base_uri": "https://localhost:8080/"
        }
      },
      "execution_count": 25,
      "outputs": [
        {
          "output_type": "stream",
          "name": "stdout",
          "text": [
            "1 -> 2 -> 3 -> 4 -> 5 -> None\n",
            "1 -> 2 -> 3 -> 5 -> None\n"
          ]
        }
      ]
    },
    {
      "cell_type": "markdown",
      "source": [
        "**Detect a Cycle in a Linked List**"
      ],
      "metadata": {
        "id": "gOn1qEP8Fk2U"
      }
    },
    {
      "cell_type": "code",
      "source": [
        "def has_cycle(ll):\n",
        "  slow = ll.head\n",
        "  fast = ll.head\n",
        "\n",
        "  while fast and fast.next:\n",
        "\n",
        "    slow = slow.next\n",
        "    fast = fast.next.next\n",
        "\n",
        "    if slow == fast:\n",
        "      return True\n",
        "\n",
        "  return False\n",
        "\n"
      ],
      "metadata": {
        "id": "8pO5Kh3BFkSh"
      },
      "execution_count": 10,
      "outputs": []
    },
    {
      "cell_type": "code",
      "source": [
        "has_cycle(ll)"
      ],
      "metadata": {
        "colab": {
          "base_uri": "https://localhost:8080/"
        },
        "id": "npxC32uAJeKd",
        "outputId": "4ada1742-f6d9-4b16-b26d-55bd4982d7a3"
      },
      "execution_count": 11,
      "outputs": [
        {
          "output_type": "execute_result",
          "data": {
            "text/plain": [
              "False"
            ]
          },
          "metadata": {},
          "execution_count": 11
        }
      ]
    },
    {
      "cell_type": "code",
      "source": [],
      "metadata": {
        "id": "CFV7Hc8bJgB6"
      },
      "execution_count": 11,
      "outputs": []
    }
  ]
}