{
  "nbformat": 4,
  "nbformat_minor": 0,
  "metadata": {
    "colab": {
      "provenance": [],
      "authorship_tag": "ABX9TyOfdvdOhOoNA2xkRY2ntDsB",
      "include_colab_link": true
    },
    "kernelspec": {
      "name": "python3",
      "display_name": "Python 3"
    },
    "language_info": {
      "name": "python"
    }
  },
  "cells": [
    {
      "cell_type": "markdown",
      "metadata": {
        "id": "view-in-github",
        "colab_type": "text"
      },
      "source": [
        "<a href=\"https://colab.research.google.com/github/MassGH2023/Python-Coding-Practice/blob/main/Data_Structures.ipynb\" target=\"_parent\"><img src=\"https://colab.research.google.com/assets/colab-badge.svg\" alt=\"Open In Colab\"/></a>"
      ]
    },
    {
      "cell_type": "markdown",
      "source": [
        "# Array\n",
        "\n",
        "An array in Python is a collection of elements stored in a single variable, where each element is accessed by an index. It's like a row in Excel where you can store multiple values in one place.\n",
        "\n",
        "```\n",
        "from array import array\n",
        "\n",
        "# Create an array of integers\n",
        "numbers = array('i', [1, 2, 3, 4, 5])\n",
        "```\n",
        "\n"
      ],
      "metadata": {
        "id": "TcbnODuhn7Dn"
      }
    },
    {
      "cell_type": "code",
      "execution_count": 1,
      "metadata": {
        "id": "Z053XmfznyQ3"
      },
      "outputs": [],
      "source": [
        "a = [9,5,7,2,4,1,7,0,3,2]\n",
        "\n",
        "def linsrch(lst, item):\n",
        "# Time Complexity: Linear search has a time complexity of O(N), meaning the time it takes to search increases linearly with the size of the array.\n",
        "  for e in lst:\n",
        "    if e == item:\n",
        "      return True\n",
        "\n",
        "  return False"
      ]
    },
    {
      "cell_type": "code",
      "source": [
        "linsrch(a, 5)"
      ],
      "metadata": {
        "colab": {
          "base_uri": "https://localhost:8080/"
        },
        "id": "3EkBEPBfpfAD",
        "outputId": "a86fa9f3-1f97-4b0c-cce8-f614569fb2bc"
      },
      "execution_count": 2,
      "outputs": [
        {
          "output_type": "execute_result",
          "data": {
            "text/plain": [
              "True"
            ]
          },
          "metadata": {},
          "execution_count": 2
        }
      ]
    },
    {
      "cell_type": "code",
      "source": [
        "linsrch(a, 12)"
      ],
      "metadata": {
        "colab": {
          "base_uri": "https://localhost:8080/"
        },
        "id": "cgLkPkHopjKL",
        "outputId": "81e59532-6253-4e3b-d679-028769b86a51"
      },
      "execution_count": 4,
      "outputs": [
        {
          "output_type": "execute_result",
          "data": {
            "text/plain": [
              "False"
            ]
          },
          "metadata": {},
          "execution_count": 4
        }
      ]
    },
    {
      "cell_type": "code",
      "source": [],
      "metadata": {
        "id": "WgVgdVSIpmtD"
      },
      "execution_count": null,
      "outputs": []
    }
  ]
}